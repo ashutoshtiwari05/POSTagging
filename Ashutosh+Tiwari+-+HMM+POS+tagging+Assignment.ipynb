{
 "cells": [
  {
   "cell_type": "markdown",
   "metadata": {},
   "source": [
    "## POS tagging using modified Viterbi"
   ]
  },
  {
   "cell_type": "markdown",
   "metadata": {},
   "source": [
    "### Data Preparation"
   ]
  },
  {
   "cell_type": "code",
   "execution_count": 1,
   "metadata": {},
   "outputs": [],
   "source": [
    "#Importing libraries\n",
    "import nltk, re, pprint\n",
    "import numpy as np\n",
    "import pandas as pd\n",
    "import requests\n",
    "import matplotlib.pyplot as plt\n",
    "import seaborn as sns\n",
    "import pprint, time\n",
    "import random\n",
    "from sklearn.model_selection import train_test_split\n",
    "from nltk.tokenize import word_tokenize\n",
    "from nltk import word_tokenize, pos_tag"
   ]
  },
  {
   "cell_type": "code",
   "execution_count": 2,
   "metadata": {},
   "outputs": [],
   "source": [
    "# reading the Treebank tagged sentences\n",
    "nltk_data = list(nltk.corpus.treebank.tagged_sents(tagset='universal'))"
   ]
  },
  {
   "cell_type": "code",
   "execution_count": 3,
   "metadata": {},
   "outputs": [
    {
     "name": "stdout",
     "output_type": "stream",
     "text": [
      "[[('Pierre', 'NOUN'), ('Vinken', 'NOUN'), (',', '.'), ('61', 'NUM'), ('years', 'NOUN'), ('old', 'ADJ'), (',', '.'), ('will', 'VERB'), ('join', 'VERB'), ('the', 'DET'), ('board', 'NOUN'), ('as', 'ADP'), ('a', 'DET'), ('nonexecutive', 'ADJ'), ('director', 'NOUN'), ('Nov.', 'NOUN'), ('29', 'NUM'), ('.', '.')], [('Mr.', 'NOUN'), ('Vinken', 'NOUN'), ('is', 'VERB'), ('chairman', 'NOUN'), ('of', 'ADP'), ('Elsevier', 'NOUN'), ('N.V.', 'NOUN'), (',', '.'), ('the', 'DET'), ('Dutch', 'NOUN'), ('publishing', 'VERB'), ('group', 'NOUN'), ('.', '.')], [('Rudolph', 'NOUN'), ('Agnew', 'NOUN'), (',', '.'), ('55', 'NUM'), ('years', 'NOUN'), ('old', 'ADJ'), ('and', 'CONJ'), ('former', 'ADJ'), ('chairman', 'NOUN'), ('of', 'ADP'), ('Consolidated', 'NOUN'), ('Gold', 'NOUN'), ('Fields', 'NOUN'), ('PLC', 'NOUN'), (',', '.'), ('was', 'VERB'), ('named', 'VERB'), ('*-1', 'X'), ('a', 'DET'), ('nonexecutive', 'ADJ'), ('director', 'NOUN'), ('of', 'ADP'), ('this', 'DET'), ('British', 'ADJ'), ('industrial', 'ADJ'), ('conglomerate', 'NOUN'), ('.', '.')], [('A', 'DET'), ('form', 'NOUN'), ('of', 'ADP'), ('asbestos', 'NOUN'), ('once', 'ADV'), ('used', 'VERB'), ('*', 'X'), ('*', 'X'), ('to', 'PRT'), ('make', 'VERB'), ('Kent', 'NOUN'), ('cigarette', 'NOUN'), ('filters', 'NOUN'), ('has', 'VERB'), ('caused', 'VERB'), ('a', 'DET'), ('high', 'ADJ'), ('percentage', 'NOUN'), ('of', 'ADP'), ('cancer', 'NOUN'), ('deaths', 'NOUN'), ('among', 'ADP'), ('a', 'DET'), ('group', 'NOUN'), ('of', 'ADP'), ('workers', 'NOUN'), ('exposed', 'VERB'), ('*', 'X'), ('to', 'PRT'), ('it', 'PRON'), ('more', 'ADV'), ('than', 'ADP'), ('30', 'NUM'), ('years', 'NOUN'), ('ago', 'ADP'), (',', '.'), ('researchers', 'NOUN'), ('reported', 'VERB'), ('0', 'X'), ('*T*-1', 'X'), ('.', '.')], [('The', 'DET'), ('asbestos', 'NOUN'), ('fiber', 'NOUN'), (',', '.'), ('crocidolite', 'NOUN'), (',', '.'), ('is', 'VERB'), ('unusually', 'ADV'), ('resilient', 'ADJ'), ('once', 'ADP'), ('it', 'PRON'), ('enters', 'VERB'), ('the', 'DET'), ('lungs', 'NOUN'), (',', '.'), ('with', 'ADP'), ('even', 'ADV'), ('brief', 'ADJ'), ('exposures', 'NOUN'), ('to', 'PRT'), ('it', 'PRON'), ('causing', 'VERB'), ('symptoms', 'NOUN'), ('that', 'DET'), ('*T*-1', 'X'), ('show', 'VERB'), ('up', 'PRT'), ('decades', 'NOUN'), ('later', 'ADJ'), (',', '.'), ('researchers', 'NOUN'), ('said', 'VERB'), ('0', 'X'), ('*T*-2', 'X'), ('.', '.')], [('Lorillard', 'NOUN'), ('Inc.', 'NOUN'), (',', '.'), ('the', 'DET'), ('unit', 'NOUN'), ('of', 'ADP'), ('New', 'ADJ'), ('York-based', 'ADJ'), ('Loews', 'NOUN'), ('Corp.', 'NOUN'), ('that', 'DET'), ('*T*-2', 'X'), ('makes', 'VERB'), ('Kent', 'NOUN'), ('cigarettes', 'NOUN'), (',', '.'), ('stopped', 'VERB'), ('using', 'VERB'), ('crocidolite', 'NOUN'), ('in', 'ADP'), ('its', 'PRON'), ('Micronite', 'NOUN'), ('cigarette', 'NOUN'), ('filters', 'NOUN'), ('in', 'ADP'), ('1956', 'NUM'), ('.', '.')], [('Although', 'ADP'), ('preliminary', 'ADJ'), ('findings', 'NOUN'), ('were', 'VERB'), ('reported', 'VERB'), ('*-2', 'X'), ('more', 'ADV'), ('than', 'ADP'), ('a', 'DET'), ('year', 'NOUN'), ('ago', 'ADP'), (',', '.'), ('the', 'DET'), ('latest', 'ADJ'), ('results', 'NOUN'), ('appear', 'VERB'), ('in', 'ADP'), ('today', 'NOUN'), (\"'s\", 'PRT'), ('New', 'NOUN'), ('England', 'NOUN'), ('Journal', 'NOUN'), ('of', 'ADP'), ('Medicine', 'NOUN'), (',', '.'), ('a', 'DET'), ('forum', 'NOUN'), ('likely', 'ADJ'), ('*', 'X'), ('to', 'PRT'), ('bring', 'VERB'), ('new', 'ADJ'), ('attention', 'NOUN'), ('to', 'PRT'), ('the', 'DET'), ('problem', 'NOUN'), ('.', '.')], [('A', 'DET'), ('Lorillard', 'NOUN'), ('spokewoman', 'NOUN'), ('said', 'VERB'), (',', '.'), ('``', '.'), ('This', 'DET'), ('is', 'VERB'), ('an', 'DET'), ('old', 'ADJ'), ('story', 'NOUN'), ('.', '.')], [('We', 'PRON'), (\"'re\", 'VERB'), ('talking', 'VERB'), ('about', 'ADP'), ('years', 'NOUN'), ('ago', 'ADP'), ('before', 'ADP'), ('anyone', 'NOUN'), ('heard', 'VERB'), ('of', 'ADP'), ('asbestos', 'NOUN'), ('having', 'VERB'), ('any', 'DET'), ('questionable', 'ADJ'), ('properties', 'NOUN'), ('.', '.')], [('There', 'DET'), ('is', 'VERB'), ('no', 'DET'), ('asbestos', 'NOUN'), ('in', 'ADP'), ('our', 'PRON'), ('products', 'NOUN'), ('now', 'ADV'), ('.', '.'), (\"''\", '.')], [('Neither', 'DET'), ('Lorillard', 'NOUN'), ('nor', 'CONJ'), ('the', 'DET'), ('researchers', 'NOUN'), ('who', 'PRON'), ('*T*-3', 'X'), ('studied', 'VERB'), ('the', 'DET'), ('workers', 'NOUN'), ('were', 'VERB'), ('aware', 'ADJ'), ('of', 'ADP'), ('any', 'DET'), ('research', 'NOUN'), ('on', 'ADP'), ('smokers', 'NOUN'), ('of', 'ADP'), ('the', 'DET'), ('Kent', 'NOUN'), ('cigarettes', 'NOUN'), ('.', '.')], [('``', '.'), ('We', 'PRON'), ('have', 'VERB'), ('no', 'DET'), ('useful', 'ADJ'), ('information', 'NOUN'), ('on', 'ADP'), ('whether', 'ADP'), ('users', 'NOUN'), ('are', 'VERB'), ('at', 'ADP'), ('risk', 'NOUN'), (',', '.'), (\"''\", '.'), ('said', 'VERB'), ('*T*-1', 'X'), ('James', 'NOUN'), ('A.', 'NOUN'), ('Talcott', 'NOUN'), ('of', 'ADP'), ('Boston', 'NOUN'), (\"'s\", 'PRT'), ('Dana-Farber', 'NOUN'), ('Cancer', 'NOUN'), ('Institute', 'NOUN'), ('.', '.')], [('Dr.', 'NOUN'), ('Talcott', 'NOUN'), ('led', 'VERB'), ('a', 'DET'), ('team', 'NOUN'), ('of', 'ADP'), ('researchers', 'NOUN'), ('from', 'ADP'), ('the', 'DET'), ('National', 'NOUN'), ('Cancer', 'NOUN'), ('Institute', 'NOUN'), ('and', 'CONJ'), ('the', 'DET'), ('medical', 'ADJ'), ('schools', 'NOUN'), ('of', 'ADP'), ('Harvard', 'NOUN'), ('University', 'NOUN'), ('and', 'CONJ'), ('Boston', 'NOUN'), ('University', 'NOUN'), ('.', '.')], [('The', 'DET'), ('Lorillard', 'NOUN'), ('spokeswoman', 'NOUN'), ('said', 'VERB'), ('0', 'X'), ('asbestos', 'NOUN'), ('was', 'VERB'), ('used', 'VERB'), ('*-1', 'X'), ('in', 'ADP'), ('``', '.'), ('very', 'ADV'), ('modest', 'ADJ'), ('amounts', 'NOUN'), (\"''\", '.'), ('in', 'ADP'), ('*', 'X'), ('making', 'VERB'), ('paper', 'NOUN'), ('for', 'ADP'), ('the', 'DET'), ('filters', 'NOUN'), ('in', 'ADP'), ('the', 'DET'), ('early', 'ADJ'), ('1950s', 'NUM'), ('and', 'CONJ'), ('replaced', 'VERB'), ('*-1', 'X'), ('with', 'ADP'), ('a', 'DET'), ('different', 'ADJ'), ('type', 'NOUN'), ('of', 'ADP'), ('filter', 'NOUN'), ('in', 'ADP'), ('1956', 'NUM'), ('.', '.')], [('From', 'ADP'), ('1953', 'NUM'), ('to', 'PRT'), ('1955', 'NUM'), (',', '.'), ('9.8', 'NUM'), ('billion', 'NUM'), ('Kent', 'NOUN'), ('cigarettes', 'NOUN'), ('with', 'ADP'), ('the', 'DET'), ('filters', 'NOUN'), ('were', 'VERB'), ('sold', 'VERB'), ('*-3', 'X'), (',', '.'), ('the', 'DET'), ('company', 'NOUN'), ('said', 'VERB'), ('0', 'X'), ('*T*-1', 'X'), ('.', '.')], [('Among', 'ADP'), ('33', 'NUM'), ('men', 'NOUN'), ('who', 'PRON'), ('*T*-4', 'X'), ('worked', 'VERB'), ('closely', 'ADV'), ('with', 'ADP'), ('the', 'DET'), ('substance', 'NOUN'), (',', '.'), ('28', 'NUM'), ('*ICH*-1', 'X'), ('have', 'VERB'), ('died', 'VERB'), ('--', '.'), ('more', 'ADJ'), ('than', 'ADP'), ('three', 'NUM'), ('times', 'NOUN'), ('the', 'DET'), ('expected', 'VERB'), ('number', 'NOUN'), ('.', '.')], [('Four', 'NUM'), ('of', 'ADP'), ('the', 'DET'), ('five', 'NUM'), ('surviving', 'VERB'), ('workers', 'NOUN'), ('have', 'VERB'), ('asbestos-related', 'ADJ'), ('diseases', 'NOUN'), (',', '.'), ('including', 'VERB'), ('three', 'NUM'), ('with', 'ADP'), ('recently', 'ADV'), ('diagnosed', 'VERB'), ('cancer', 'NOUN'), ('.', '.')], [('The', 'DET'), ('total', 'NOUN'), ('of', 'ADP'), ('18', 'NUM'), ('deaths', 'NOUN'), ('from', 'ADP'), ('malignant', 'ADJ'), ('mesothelioma', 'NOUN'), (',', '.'), ('lung', 'NOUN'), ('cancer', 'NOUN'), ('and', 'CONJ'), ('asbestosis', 'NOUN'), ('was', 'VERB'), ('far', 'ADV'), ('higher', 'ADJ'), ('than', 'ADP'), ('*', 'X'), ('expected', 'VERB'), ('*?*', 'X'), (',', '.'), ('the', 'DET'), ('researchers', 'NOUN'), ('said', 'VERB'), ('0', 'X'), ('*T*-1', 'X'), ('.', '.')], [('``', '.'), ('The', 'DET'), ('morbidity', 'NOUN'), ('rate', 'NOUN'), ('is', 'VERB'), ('a', 'DET'), ('striking', 'ADJ'), ('finding', 'NOUN'), ('among', 'ADP'), ('those', 'DET'), ('of', 'ADP'), ('us', 'PRON'), ('who', 'PRON'), ('*T*-5', 'X'), ('study', 'VERB'), ('asbestos-related', 'ADJ'), ('diseases', 'NOUN'), (',', '.'), (\"''\", '.'), ('said', 'VERB'), ('*T*-1', 'X'), ('Dr.', 'NOUN'), ('Talcott', 'NOUN'), ('.', '.')], [('The', 'DET'), ('percentage', 'NOUN'), ('of', 'ADP'), ('lung', 'NOUN'), ('cancer', 'NOUN'), ('deaths', 'NOUN'), ('among', 'ADP'), ('the', 'DET'), ('workers', 'NOUN'), ('at', 'ADP'), ('the', 'DET'), ('West', 'NOUN'), ('Groton', 'NOUN'), (',', '.'), ('Mass.', 'NOUN'), (',', '.'), ('paper', 'NOUN'), ('factory', 'NOUN'), ('appears', 'VERB'), ('*-1', 'X'), ('to', 'PRT'), ('be', 'VERB'), ('the', 'DET'), ('highest', 'ADJ'), ('for', 'ADP'), ('any', 'DET'), ('asbestos', 'NOUN'), ('workers', 'NOUN'), ('studied', 'VERB'), ('*', 'X'), ('in', 'ADP'), ('Western', 'ADJ'), ('industrialized', 'VERB'), ('countries', 'NOUN'), (',', '.'), ('he', 'PRON'), ('said', 'VERB'), ('0', 'X'), ('*T*-2', 'X'), ('.', '.')], [('The', 'DET'), ('plant', 'NOUN'), (',', '.'), ('which', 'DET'), ('*T*-1', 'X'), ('is', 'VERB'), ('owned', 'VERB'), ('*-4', 'X'), ('by', 'ADP'), ('Hollingsworth', 'NOUN'), ('&', 'CONJ'), ('Vose', 'NOUN'), ('Co.', 'NOUN'), (',', '.'), ('was', 'VERB'), ('under', 'ADP'), ('contract', 'NOUN'), ('*ICH*-2', 'X'), ('with', 'ADP'), ('Lorillard', 'NOUN'), ('*', 'X'), ('to', 'PRT'), ('make', 'VERB'), ('the', 'DET'), ('cigarette', 'NOUN'), ('filters', 'NOUN'), ('.', '.')], [('The', 'DET'), ('finding', 'NOUN'), ('probably', 'ADV'), ('will', 'VERB'), ('support', 'VERB'), ('those', 'DET'), ('who', 'PRON'), ('*T*-6', 'X'), ('argue', 'VERB'), ('that', 'ADP'), ('the', 'DET'), ('U.S.', 'NOUN'), ('should', 'VERB'), ('regulate', 'VERB'), ('the', 'DET'), ('class', 'NOUN'), ('of', 'ADP'), ('asbestos', 'NOUN'), ('including', 'VERB'), ('crocidolite', 'NOUN'), ('more', 'ADV'), ('stringently', 'ADV'), ('than', 'ADP'), ('the', 'DET'), ('common', 'ADJ'), ('kind', 'NOUN'), ('of', 'ADP'), ('asbestos', 'NOUN'), (',', '.'), ('chrysotile', 'NOUN'), (',', '.'), ('found', 'VERB'), ('*', 'X'), ('in', 'ADP'), ('most', 'ADJ'), ('schools', 'NOUN'), ('and', 'CONJ'), ('other', 'ADJ'), ('buildings', 'NOUN'), (',', '.'), ('Dr.', 'NOUN'), ('Talcott', 'NOUN'), ('said', 'VERB'), ('0', 'X'), ('*T*-1', 'X'), ('.', '.')], [('The', 'DET'), ('U.S.', 'NOUN'), ('is', 'VERB'), ('one', 'NUM'), ('of', 'ADP'), ('the', 'DET'), ('few', 'ADJ'), ('industrialized', 'VERB'), ('nations', 'NOUN'), ('that', 'DET'), ('*T*-7', 'X'), ('does', 'VERB'), (\"n't\", 'ADV'), ('have', 'VERB'), ('a', 'DET'), ('higher', 'ADJ'), ('standard', 'NOUN'), ('of', 'ADP'), ('regulation', 'NOUN'), ('for', 'ADP'), ('the', 'DET'), ('smooth', 'ADJ'), (',', '.'), ('needle-like', 'ADJ'), ('fibers', 'NOUN'), ('such', 'ADJ'), ('as', 'ADP'), ('crocidolite', 'NOUN'), ('that', 'DET'), ('*T*-1', 'X'), ('are', 'VERB'), ('classified', 'VERB'), ('*-5', 'X'), ('as', 'ADP'), ('amphobiles', 'NOUN'), (',', '.'), ('according', 'VERB'), ('to', 'PRT'), ('Brooke', 'NOUN'), ('T.', 'NOUN'), ('Mossman', 'NOUN'), (',', '.'), ('a', 'DET'), ('professor', 'NOUN'), ('of', 'ADP'), ('pathlogy', 'NOUN'), ('at', 'ADP'), ('the', 'DET'), ('University', 'NOUN'), ('of', 'ADP'), ('Vermont', 'NOUN'), ('College', 'NOUN'), ('of', 'ADP'), ('Medicine', 'NOUN'), ('.', '.')], [('More', 'ADV'), ('common', 'ADJ'), ('chrysotile', 'NOUN'), ('fibers', 'NOUN'), ('are', 'VERB'), ('curly', 'ADJ'), ('and', 'CONJ'), ('are', 'VERB'), ('more', 'ADV'), ('easily', 'ADV'), ('rejected', 'VERB'), ('*-1', 'X'), ('by', 'ADP'), ('the', 'DET'), ('body', 'NOUN'), (',', '.'), ('Dr.', 'NOUN'), ('Mossman', 'NOUN'), ('explained', 'VERB'), ('0', 'X'), ('*T*-2', 'X'), ('.', '.')], [('In', 'ADP'), ('July', 'NOUN'), (',', '.'), ('the', 'DET'), ('Environmental', 'NOUN'), ('Protection', 'NOUN'), ('Agency', 'NOUN'), ('imposed', 'VERB'), ('a', 'DET'), ('gradual', 'ADJ'), ('ban', 'NOUN'), ('on', 'ADP'), ('virtually', 'ADV'), ('all', 'DET'), ('uses', 'NOUN'), ('of', 'ADP'), ('asbestos', 'NOUN'), ('.', '.')], [('By', 'ADP'), ('1997', 'NUM'), (',', '.'), ('almost', 'ADV'), ('all', 'DET'), ('remaining', 'VERB'), ('uses', 'NOUN'), ('of', 'ADP'), ('cancer-causing', 'ADJ'), ('asbestos', 'NOUN'), ('will', 'VERB'), ('be', 'VERB'), ('outlawed', 'VERB'), ('*-6', 'X'), ('.', '.')], [('About', 'ADP'), ('160', 'NUM'), ('workers', 'NOUN'), ('at', 'ADP'), ('a', 'DET'), ('factory', 'NOUN'), ('that', 'DET'), ('*T*-8', 'X'), ('made', 'VERB'), ('paper', 'NOUN'), ('for', 'ADP'), ('the', 'DET'), ('Kent', 'NOUN'), ('filters', 'NOUN'), ('were', 'VERB'), ('exposed', 'VERB'), ('*-7', 'X'), ('to', 'PRT'), ('asbestos', 'NOUN'), ('in', 'ADP'), ('the', 'DET'), ('1950s', 'NUM'), ('.', '.')], [('Areas', 'NOUN'), ('of', 'ADP'), ('the', 'DET'), ('factory', 'NOUN'), ('*ICH*-2', 'X'), ('were', 'VERB'), ('particularly', 'ADV'), ('dusty', 'ADJ'), ('where', 'ADV'), ('the', 'DET'), ('crocidolite', 'NOUN'), ('was', 'VERB'), ('used', 'VERB'), ('*-8', 'X'), ('*T*-1', 'X'), ('.', '.')], [('Workers', 'NOUN'), ('dumped', 'VERB'), ('large', 'ADJ'), ('burlap', 'NOUN'), ('sacks', 'NOUN'), ('of', 'ADP'), ('the', 'DET'), ('imported', 'VERB'), ('material', 'NOUN'), ('into', 'ADP'), ('a', 'DET'), ('huge', 'ADJ'), ('bin', 'NOUN'), (',', '.'), ('poured', 'VERB'), ('in', 'PRT'), ('cotton', 'NOUN'), ('and', 'CONJ'), ('acetate', 'NOUN'), ('fibers', 'NOUN'), ('and', 'CONJ'), ('mechanically', 'ADV'), ('mixed', 'VERB'), ('the', 'DET'), ('dry', 'ADJ'), ('fibers', 'NOUN'), ('in', 'ADP'), ('a', 'DET'), ('process', 'NOUN'), ('used', 'VERB'), ('*', 'X'), ('*', 'X'), ('to', 'PRT'), ('make', 'VERB'), ('filters', 'NOUN'), ('.', '.')], [('Workers', 'NOUN'), ('described', 'VERB'), ('``', '.'), ('clouds', 'NOUN'), ('of', 'ADP'), ('blue', 'ADJ'), ('dust', 'NOUN'), (\"''\", '.'), ('that', 'DET'), ('*T*-1', 'X'), ('hung', 'VERB'), ('over', 'ADP'), ('parts', 'NOUN'), ('of', 'ADP'), ('the', 'DET'), ('factory', 'NOUN'), (',', '.'), ('even', 'ADV'), ('though', 'ADP'), ('exhaust', 'NOUN'), ('fans', 'NOUN'), ('ventilated', 'VERB'), ('the', 'DET'), ('area', 'NOUN'), ('.', '.')], [('``', '.'), ('There', 'DET'), (\"'s\", 'VERB'), ('no', 'DET'), ('question', 'NOUN'), ('that', 'ADP'), ('some', 'DET'), ('of', 'ADP'), ('those', 'DET'), ('workers', 'NOUN'), ('and', 'CONJ'), ('managers', 'NOUN'), ('contracted', 'VERB'), ('asbestos-related', 'ADJ'), ('diseases', 'NOUN'), (',', '.'), (\"''\", '.'), ('said', 'VERB'), ('*T*-1', 'X'), ('Darrell', 'NOUN'), ('Phillips', 'NOUN'), (',', '.'), ('vice', 'NOUN'), ('president', 'NOUN'), ('of', 'ADP'), ('human', 'ADJ'), ('resources', 'NOUN'), ('for', 'ADP'), ('Hollingsworth', 'NOUN'), ('&', 'CONJ'), ('Vose', 'NOUN'), ('.', '.')], [('``', '.'), ('But', 'CONJ'), ('you', 'PRON'), ('have', 'VERB'), ('*-1', 'X'), ('to', 'PRT'), ('recognize', 'VERB'), ('that', 'ADP'), ('these', 'DET'), ('events', 'NOUN'), ('took', 'VERB'), ('place', 'NOUN'), ('35', 'NUM'), ('years', 'NOUN'), ('ago', 'ADP'), ('.', '.')], [('It', 'PRON'), ('has', 'VERB'), ('no', 'DET'), ('bearing', 'NOUN'), ('on', 'ADP'), ('our', 'PRON'), ('work', 'NOUN'), ('force', 'NOUN'), ('today', 'NOUN'), ('.', '.')], [('Yields', 'NOUN'), ('on', 'ADP'), ('money-market', 'ADJ'), ('mutual', 'ADJ'), ('funds', 'NOUN'), ('continued', 'VERB'), ('*-1', 'X'), ('to', 'PRT'), ('slide', 'VERB'), (',', '.'), ('amid', 'ADP'), ('signs', 'NOUN'), ('that', 'ADP'), ('portfolio', 'NOUN'), ('managers', 'NOUN'), ('expect', 'VERB'), ('further', 'ADJ'), ('declines', 'NOUN'), ('in', 'ADP'), ('interest', 'NOUN'), ('rates', 'NOUN'), ('.', '.')], [('The', 'DET'), ('average', 'ADJ'), ('seven-day', 'ADJ'), ('compound', 'NOUN'), ('yield', 'NOUN'), ('of', 'ADP'), ('the', 'DET'), ('400', 'NUM'), ('taxable', 'ADJ'), ('funds', 'NOUN'), ('tracked', 'VERB'), ('*', 'X'), ('by', 'ADP'), ('IBC', 'NOUN'), (\"'s\", 'PRT'), ('Money', 'NOUN'), ('Fund', 'NOUN'), ('Report', 'NOUN'), ('eased', 'VERB'), ('a', 'DET'), ('fraction', 'NOUN'), ('of', 'ADP'), ('a', 'DET'), ('percentage', 'NOUN'), ('point', 'NOUN'), ('to', 'PRT'), ('8.45', 'NUM'), ('%', 'NOUN'), ('from', 'ADP'), ('8.47', 'NUM'), ('%', 'NOUN'), ('for', 'ADP'), ('the', 'DET'), ('week', 'NOUN'), ('ended', 'VERB'), ('Tuesday', 'NOUN'), ('.', '.')], [('Compound', 'NOUN'), ('yields', 'NOUN'), ('assume', 'VERB'), ('reinvestment', 'NOUN'), ('of', 'ADP'), ('dividends', 'NOUN'), ('and', 'CONJ'), ('that', 'ADP'), ('the', 'DET'), ('current', 'ADJ'), ('yield', 'NOUN'), ('continues', 'VERB'), ('for', 'ADP'), ('a', 'DET'), ('year', 'NOUN'), ('.', '.')], [('Average', 'ADJ'), ('maturity', 'NOUN'), ('of', 'ADP'), ('the', 'DET'), ('funds', 'NOUN'), (\"'\", 'PRT'), ('investments', 'NOUN'), ('lengthened', 'VERB'), ('by', 'ADP'), ('a', 'DET'), ('day', 'NOUN'), ('to', 'PRT'), ('41', 'NUM'), ('days', 'NOUN'), (',', '.'), ('the', 'DET'), ('longest', 'ADJ'), ('since', 'ADP'), ('early', 'ADJ'), ('August', 'NOUN'), (',', '.'), ('according', 'VERB'), ('to', 'PRT'), ('Donoghue', 'NOUN'), (\"'s\", 'PRT'), ('.', '.')], [('Longer', 'ADJ'), ('maturities', 'NOUN'), ('are', 'VERB'), ('thought', 'VERB'), ('*-1', 'X'), ('to', 'PRT'), ('indicate', 'VERB'), ('declining', 'VERB'), ('interest', 'NOUN'), ('rates', 'NOUN'), ('because', 'ADP'), ('they', 'PRON'), ('permit', 'VERB'), ('portfolio', 'NOUN'), ('managers', 'NOUN'), ('to', 'PRT'), ('retain', 'VERB'), ('relatively', 'ADV'), ('higher', 'ADJ'), ('rates', 'NOUN'), ('for', 'ADP'), ('a', 'DET'), ('longer', 'ADJ'), ('period', 'NOUN'), ('.', '.')], [('Shorter', 'ADJ'), ('maturities', 'NOUN'), ('are', 'VERB'), ('considered', 'VERB'), ('*-9', 'X'), ('a', 'DET'), ('sign', 'NOUN'), ('of', 'ADP'), ('rising', 'VERB'), ('rates', 'NOUN'), ('because', 'ADP'), ('portfolio', 'NOUN'), ('managers', 'NOUN'), ('can', 'VERB'), ('capture', 'VERB'), ('higher', 'ADJ'), ('rates', 'NOUN'), ('sooner', 'ADV'), ('.', '.')], [('The', 'DET'), ('average', 'ADJ'), ('maturity', 'NOUN'), ('for', 'ADP'), ('funds', 'NOUN'), ('open', 'ADJ'), ('only', 'ADV'), ('to', 'PRT'), ('institutions', 'NOUN'), (',', '.'), ('considered', 'VERB'), ('by', 'ADP'), ('some', 'DET'), ('*', 'X'), ('to', 'PRT'), ('be', 'VERB'), ('a', 'DET'), ('stronger', 'ADJ'), ('indicator', 'NOUN'), ('because', 'ADP'), ('those', 'DET'), ('managers', 'NOUN'), ('watch', 'VERB'), ('the', 'DET'), ('market', 'NOUN'), ('closely', 'ADV'), (',', '.'), ('reached', 'VERB'), ('a', 'DET'), ('high', 'ADJ'), ('point', 'NOUN'), ('for', 'ADP'), ('the', 'DET'), ('year', 'NOUN'), ('--', '.'), ('33', 'NUM'), ('days', 'NOUN'), ('.', '.')]]\n"
     ]
    }
   ],
   "source": [
    "# first few tagged sentences\n",
    "print(nltk_data[:40])"
   ]
  },
  {
   "cell_type": "code",
   "execution_count": 4,
   "metadata": {},
   "outputs": [
    {
     "name": "stdout",
     "output_type": "stream",
     "text": [
      "3718\n",
      "196\n",
      "[[('The', 'DET'), ('offer', 'NOUN'), (',', '.'), ('which', 'DET'), ('*T*-2', 'X'), ('was', 'VERB'), ('due', 'ADJ'), ('*-3', 'X'), ('to', 'PRT'), ('expire', 'VERB'), ('yesterday', 'NOUN'), (',', '.'), ('is', 'VERB'), ('conditional', 'ADJ'), ('on', 'ADP'), ('50.1', 'NUM'), ('%', 'NOUN'), ('of', 'ADP'), (\"Dunkin'\", 'NOUN'), ('common', 'ADJ'), ('shares', 'NOUN'), (',', '.'), ('on', 'ADP'), ('a', 'DET'), ('fully', 'ADV'), ('diluted', 'VERB'), ('basis', 'NOUN'), (',', '.'), ('being', 'VERB'), ('tendered', 'VERB'), ('*-1', 'X'), ('and', 'CONJ'), ('on', 'ADP'), ('the', 'DET'), ('withdrawal', 'NOUN'), ('of', 'ADP'), ('the', 'DET'), ('company', 'NOUN'), (\"'s\", 'PRT'), ('poison', 'NOUN'), ('pill', 'NOUN'), ('rights', 'NOUN'), ('plan', 'NOUN'), ('.', '.')], [('The', 'DET'), ('len', 'NOUN'), (\"'s\", 'PRT'), ('foldability', 'NOUN'), ('enables', 'VERB'), ('it', 'PRON'), ('to', 'PRT'), ('be', 'VERB'), ('inserted', 'VERB'), ('*-1', 'X'), ('in', 'ADP'), ('smaller', 'ADJ'), ('incisions', 'NOUN'), ('than', 'ADP'), ('*', 'X'), ('are', 'VERB'), ('now', 'ADV'), ('possible', 'ADJ'), ('for', 'ADP'), ('cataract', 'NOUN'), ('surgery', 'NOUN'), (',', '.'), ('the', 'DET'), ('eye', 'NOUN'), ('care', 'NOUN'), ('and', 'CONJ'), ('skin', 'NOUN'), ('care', 'NOUN'), ('concern', 'NOUN'), ('said', 'VERB'), ('0', 'X'), ('*T*-3', 'X'), ('.', '.')], [('Money', 'NOUN'), ('Market', 'NOUN'), ('Deposits-a', 'NOUN'), ('6.21', 'NUM'), ('%', 'NOUN')], [('The', 'DET'), ('low-ball', 'ADJ'), ('bids', 'NOUN'), ('touch', 'VERB'), ('on', 'ADP'), ('issues', 'NOUN'), ('central', 'ADJ'), ('to', 'PRT'), ('the', 'DET'), ('increasingly', 'ADV'), ('tense', 'ADJ'), ('trade', 'NOUN'), ('debate', 'NOUN'), ('.', '.')], [('Mr.', 'NOUN'), ('Bromwich', 'NOUN'), (',', '.'), ('35', 'NUM'), (',', '.'), ('also', 'ADV'), ('has', 'VERB'), ('served', 'VERB'), ('as', 'ADP'), ('deputy', 'NOUN'), ('chief', 'NOUN'), ('*RNR*-1', 'X'), ('and', 'CONJ'), ('chief', 'NOUN'), ('*RNR*-1', 'X'), ('of', 'ADP'), ('the', 'DET'), ('narcotics', 'NOUN'), ('unit', 'NOUN'), ('for', 'ADP'), ('the', 'DET'), ('U.S.', 'NOUN'), ('attorney', 'NOUN'), (\"'s\", 'PRT'), ('office', 'NOUN'), ('for', 'ADP'), ('the', 'DET'), ('Southern', 'NOUN'), ('District', 'NOUN'), ('of', 'ADP'), ('New', 'NOUN'), ('York', 'NOUN'), (',', '.'), ('based', 'VERB'), ('*', 'X'), ('in', 'ADP'), ('Manhattan', 'NOUN'), ('.', '.')], [('Michael', 'NOUN'), ('Ross', 'NOUN'), (',', '.'), ('a', 'DET'), ('New', 'NOUN'), ('York', 'NOUN'), ('lawyer', 'NOUN'), ('who', 'PRON'), ('*T*-132', 'X'), ('heads', 'VERB'), ('the', 'DET'), ('ABA', 'NOUN'), (\"'s\", 'PRT'), ('grand', 'ADJ'), ('jury', 'NOUN'), ('committee', 'NOUN'), (',', '.'), ('said', 'VERB'), ('that', 'ADP'), ('lawyers', 'NOUN'), ('are', 'VERB'), ('prohibited', 'VERB'), ('*-1', 'X'), ('by', 'ADP'), ('the', 'DET'), ('ABA', 'NOUN'), (\"'s\", 'PRT'), ('code', 'NOUN'), ('of', 'ADP'), ('ethics', 'NOUN'), ('from', 'ADP'), ('*-1', 'X'), ('disclosing', 'VERB'), ('information', 'NOUN'), ('about', 'ADP'), ('a', 'DET'), ('client', 'NOUN'), ('except', 'ADP'), ('where', 'ADV'), ('a', 'DET'), ('court', 'NOUN'), ('orders', 'VERB'), ('it', 'PRON'), ('*T*-3', 'X'), ('or', 'CONJ'), ('*-1', 'X'), ('to', 'PRT'), ('prevent', 'VERB'), ('the', 'DET'), ('client', 'NOUN'), ('from', 'ADP'), ('*-4', 'X'), ('committing', 'VERB'), ('a', 'DET'), ('criminal', 'ADJ'), ('act', 'NOUN'), ('that', 'DET'), ('*T*-2', 'X'), ('could', 'VERB'), ('result', 'VERB'), ('in', 'ADP'), ('death', 'NOUN'), ('.', '.')], [('Sales', 'NOUN'), ('fell', 'VERB'), ('to', 'PRT'), ('$', '.'), ('251.2', 'NUM'), ('million', 'NUM'), ('*U*', 'X'), ('from', 'ADP'), ('$', '.'), ('278.7', 'NUM'), ('million', 'NUM'), ('*U*', 'X'), ('.', '.')], [('``', '.'), ('New', 'ADJ'), ('managers', 'NOUN'), ('would', 'VERB'), ('think', 'VERB'), ('a', 'DET'), ('little', 'ADV'), ('more', 'ADJ'), ('like', 'ADP'), ('Wall', 'NOUN'), ('Street', 'NOUN'), (',', '.'), (\"''\", '.'), ('Mr.', 'NOUN'), ('McMillin', 'NOUN'), ('added', 'VERB'), ('*T*-1', 'X'), ('.', '.')], [('Roederer', 'NOUN'), ('Cristal', 'NOUN'), ('at', 'ADP'), ('$', '.'), ('90', 'NUM'), ('*U*', 'X'), ('a', 'DET'), ('bottle', 'NOUN'), ('sells', 'VERB'), ('out', 'PRT'), ('around', 'ADP'), ('the', 'DET'), ('country', 'NOUN'), ('and', 'CONJ'), ('Taittinger', 'NOUN'), (\"'s\", 'PRT'), ('Comtes', 'NOUN'), ('de', 'ADP'), ('Champagne', 'NOUN'), ('Blanc', 'NOUN'), ('de', 'ADP'), ('Blancs', 'NOUN'), ('is', 'VERB'), ('encroaching', 'VERB'), ('upon', 'ADP'), ('that', 'DET'), ('level', 'NOUN'), ('.', '.')], [('Now', 'ADV'), (',', '.'), ('he', 'PRON'), ('plans', 'VERB'), ('*-1', 'X'), ('to', 'PRT'), ('sell', 'VERB'), ('all', 'DET'), ('his', 'PRON'), ('stocks', 'NOUN'), ('by', 'ADP'), ('the', 'DET'), ('first', 'ADJ'), ('quarter', 'NOUN'), ('of', 'ADP'), ('1990', 'NUM'), ('.', '.')], [('In', 'ADP'), ('fiscal', 'ADJ'), ('1988', 'NUM'), (',', '.'), ('the', 'DET'), ('company', 'NOUN'), ('earned', 'VERB'), ('$', '.'), ('17.3', 'NUM'), ('million', 'NUM'), ('*U*', 'X'), (',', '.'), ('or', 'CONJ'), ('$', '.'), ('1.92', 'NUM'), ('*U*', 'X'), ('a', 'DET'), ('share', 'NOUN'), (',', '.'), ('on', 'ADP'), ('revenue', 'NOUN'), ('of', 'ADP'), ('$', '.'), ('352.9', 'NUM'), ('million', 'NUM'), ('*U*', 'X'), ('.', '.')], [('I', 'PRON'), ('get', 'VERB'), ('the', 'DET'), ('impression', 'NOUN'), ('that', 'ADP'), ('some', 'DET'), ('Japanese', 'ADJ'), ('managers', 'NOUN'), ('believe', 'VERB'), ('0', 'X'), ('*', 'X'), ('working', 'VERB'), ('harder', 'ADV'), ('for', 'ADP'), ('less', 'ADJ'), ('money', 'NOUN'), ('is', 'VERB'), ('beautiful', 'ADJ'), ('.', '.')], [('Consolidated', 'NOUN'), ('Rail', 'NOUN'), ('Corp.', 'NOUN'), ('said', 'VERB'), ('0', 'X'), ('it', 'PRON'), ('would', 'VERB'), ('spend', 'VERB'), ('more', 'ADV'), ('than', 'ADP'), ('$', '.'), ('30', 'NUM'), ('million', 'NUM'), ('*U*', 'X'), ('on', 'ADP'), ('1,000', 'NUM'), ('enclosed', 'VERB'), ('railcars', 'NOUN'), ('for', 'ADP'), ('*', 'X'), ('transporting', 'VERB'), ('autos', 'NOUN'), ('.', '.')], [('Because', 'ADP'), ('of', 'ADP'), ('budget', 'NOUN'), ('constraints', 'NOUN'), ('in', 'ADP'), ('Washington', 'NOUN'), (',', '.'), ('the', 'DET'), ('U.S.', 'NOUN'), ('encourages', 'VERB'), ('Japan', 'NOUN'), ('to', 'PRT'), ('share', 'VERB'), ('economic', 'ADJ'), ('burdens', 'NOUN'), ('in', 'ADP'), ('the', 'DET'), ('region', 'NOUN'), ('.', '.')], [('The', 'DET'), ('federal', 'ADJ'), ('government', 'NOUN'), ('suspended', 'VERB'), ('sales', 'NOUN'), ('of', 'ADP'), ('U.S.', 'NOUN'), ('savings', 'NOUN'), ('bonds', 'NOUN'), ('because', 'ADP'), ('Congress', 'NOUN'), ('has', 'VERB'), (\"n't\", 'ADV'), ('lifted', 'VERB'), ('the', 'DET'), ('ceiling', 'NOUN'), ('on', 'ADP'), ('government', 'NOUN'), ('debt', 'NOUN'), ('.', '.')], [('``', '.'), ('The', 'DET'), ('IRS', 'NOUN'), ('is', 'VERB'), ('asking', 'VERB'), ('lawyers', 'NOUN'), ('*-1', 'X'), ('to', 'PRT'), ('red-flag', 'VERB'), ('a', 'DET'), ('criminal', 'ADJ'), ('problem', 'NOUN'), ('to', 'PRT'), ('the', 'DET'), ('government', 'NOUN'), (',', '.'), (\"''\", '.'), ('added', 'VERB'), ('Mr.', 'NOUN'), ('Sonnett', 'NOUN'), (',', '.'), ('a', 'DET'), ('Miami', 'NOUN'), ('lawyer', 'NOUN'), ('who', 'PRON'), ('*T*-128', 'X'), ('has', 'VERB'), ('heard', 'VERB'), ('from', 'ADP'), ('dozens', 'NOUN'), ('of', 'ADP'), ('attorneys', 'NOUN'), ('who', 'PRON'), ('*T*-129', 'X'), ('received', 'VERB'), ('letters', 'NOUN'), ('in', 'ADP'), ('recent', 'ADJ'), ('days', 'NOUN'), ('and', 'CONJ'), ('has', 'VERB'), ('himself', 'PRON'), ('received', 'VERB'), ('the', 'DET'), ('computer-generated', 'ADJ'), ('IRS', 'NOUN'), ('forms', 'NOUN'), ('sent', 'VERB'), ('*', 'X'), ('by', 'ADP'), ('certified', 'ADJ'), ('mail', 'NOUN'), ('.', '.')], [('A', 'DET'), ('Waste', 'NOUN'), ('Management', 'NOUN'), ('spokeswoman', 'NOUN'), ('says', 'VERB'), ('0', 'X'), ('its', 'PRON'), ('ad', 'NOUN'), ('in', 'ADP'), ('the', 'DET'), ('premiere', 'NOUN'), ('issue', 'NOUN'), ('was', 'VERB'), ('a', 'DET'), ('one-time', 'ADJ'), ('purchase', 'NOUN'), (',', '.'), ('and', 'CONJ'), ('0', 'X'), ('it', 'PRON'), ('does', 'VERB'), (\"n't\", 'ADV'), ('have', 'VERB'), ('any', 'DET'), ('plans', 'NOUN'), ('*', 'X'), ('to', 'PRT'), ('advertise', 'VERB'), ('in', 'ADP'), ('future', 'ADJ'), ('issues', 'NOUN'), ('.', '.')], [('Dodge', 'NOUN'), ('reported', 'VERB'), ('an', 'DET'), ('8', 'NUM'), ('%', 'NOUN'), ('increase', 'NOUN'), ('in', 'ADP'), ('construction', 'NOUN'), ('contracts', 'NOUN'), ('awarded', 'VERB'), ('*', 'X'), ('in', 'ADP'), ('September', 'NOUN'), ('.', '.')], [('COMMERCIAL', 'ADJ'), ('PAPER', 'NOUN'), (':', '.'), ('High-grade', 'ADJ'), ('unsecured', 'ADJ'), ('notes', 'NOUN'), ('sold', 'VERB'), ('*', 'X'), ('through', 'ADP'), ('dealers', 'NOUN'), ('by', 'ADP'), ('major', 'ADJ'), ('corporations', 'NOUN'), ('in', 'ADP'), ('multiples', 'NOUN'), ('of', 'ADP'), ('$', '.'), ('1,000', 'NUM'), ('*U*', 'X'), (':', '.'), ('8.65', 'NUM'), ('%', 'NOUN'), ('30', 'NUM'), ('days', 'NOUN'), (';', '.'), ('8.575', 'NUM'), ('%', 'NOUN'), ('60', 'NUM'), ('days', 'NOUN'), (';', '.'), ('8.50', 'NUM'), ('%', 'NOUN'), ('90', 'NUM'), ('days', 'NOUN'), ('.', '.')], [('The', 'DET'), ('plan', 'NOUN'), ('relies', 'VERB'), ('heavily', 'ADV'), ('on', 'ADP'), ('$', '.'), ('240', 'NUM'), ('million', 'NUM'), ('*U*', 'X'), ('in', 'ADP'), ('credit', 'NOUN'), ('and', 'CONJ'), ('loan', 'NOUN'), ('guarantees', 'NOUN'), ('in', 'ADP'), ('fiscal', 'ADJ'), ('1990', 'NUM'), ('in', 'ADP'), ('hopes', 'NOUN'), ('of', 'ADP'), ('*', 'X'), ('stimulating', 'VERB'), ('future', 'ADJ'), ('trade', 'NOUN'), ('and', 'CONJ'), ('investment', 'NOUN'), ('.', '.')]]\n"
     ]
    }
   ],
   "source": [
    "# Splitting into train and test\n",
    "#random.seed(1234)\n",
    "train_set, test_set = train_test_split(nltk_data,test_size=0.05)\n",
    "\n",
    "print(len(train_set))\n",
    "print(len(test_set))\n",
    "print(train_set[:20])"
   ]
  },
  {
   "cell_type": "code",
   "execution_count": 5,
   "metadata": {},
   "outputs": [
    {
     "name": "stdout",
     "output_type": "stream",
     "text": [
      "95360\n",
      "5316\n"
     ]
    }
   ],
   "source": [
    "# Getting list of tagged words\n",
    "train_tagged_words = [tup for sent in train_set for tup in sent]\n",
    "print(len(train_tagged_words))\n",
    "test_tagged_words = [tup for sent in test_set for tup in sent]\n",
    "print(len(test_tagged_words))"
   ]
  },
  {
   "cell_type": "code",
   "execution_count": 6,
   "metadata": {},
   "outputs": [
    {
     "data": {
      "text/plain": [
       "['The', 'offer', ',', 'which', '*T*-2', 'was', 'due', '*-3', 'to', 'expire']"
      ]
     },
     "execution_count": 6,
     "metadata": {},
     "output_type": "execute_result"
    }
   ],
   "source": [
    "# tokens \n",
    "tokens = [pair[0] for pair in train_tagged_words]\n",
    "tokens[:10]"
   ]
  },
  {
   "cell_type": "code",
   "execution_count": 7,
   "metadata": {},
   "outputs": [
    {
     "name": "stdout",
     "output_type": "stream",
     "text": [
      "12064\n"
     ]
    }
   ],
   "source": [
    "# vocabulary\n",
    "V = set(tokens)\n",
    "print(len(V))"
   ]
  },
  {
   "cell_type": "code",
   "execution_count": 8,
   "metadata": {},
   "outputs": [
    {
     "data": {
      "text/plain": [
       "12"
      ]
     },
     "execution_count": 8,
     "metadata": {},
     "output_type": "execute_result"
    }
   ],
   "source": [
    "# number of tags to verify if we have 12 tags as mentioned in Problem statement\n",
    "T = set([pair[1] for pair in train_tagged_words])\n",
    "len(T)"
   ]
  },
  {
   "cell_type": "code",
   "execution_count": 9,
   "metadata": {},
   "outputs": [
    {
     "name": "stdout",
     "output_type": "stream",
     "text": [
      "{'ADP', 'PRT', 'NUM', 'ADJ', 'NOUN', '.', 'VERB', 'CONJ', 'X', 'ADV', 'PRON', 'DET'}\n"
     ]
    }
   ],
   "source": [
    "print(T)"
   ]
  },
  {
   "cell_type": "markdown",
   "metadata": {},
   "source": [
    "## POS Tagging Algorithm - HMM\n",
    "\n",
    "We'll use the HMM algorithm to tag the words. Given a sequence of words to be tagged, the task is to assign the most probable tag to the word. \n",
    "\n",
    "In other words, to every word w, assign the tag t that maximises the likelihood P(t/w). Since P(t/w) = P(w/t). P(t) / P(w), after ignoring P(w), we have to compute P(w/t) and P(t).\n",
    "\n",
    "\n",
    "P(w/t) is basically the probability that given a tag (say NN), what is the probability of it being w (say 'building'). This can be computed by computing the fraction of all NNs which are equal to w, i.e. \n",
    "\n",
    "P(w/t) = count(w, t) / count(t). \n",
    "\n",
    "\n",
    "The term P(t) is the probability of tag t, and in a tagging task, we assume that a tag will depend only on the previous tag. In other words, the probability of a tag being NN will depend only on the previous tag t(n-1). So for e.g. if t(n-1) is a JJ, then t(n) is likely to be an NN since adjectives often precede a noun (blue coat, tall building etc.).\n",
    "\n",
    "\n",
    "Given the penn treebank tagged dataset, we can compute the two terms P(w/t) and P(t) and store them in two large matrices. The matrix of P(w/t) will be sparse, since each word will not be seen with most tags ever, and those terms will thus be zero. \n"
   ]
  },
  {
   "cell_type": "markdown",
   "metadata": {},
   "source": [
    "### Emission Probabilities"
   ]
  },
  {
   "cell_type": "code",
   "execution_count": 10,
   "metadata": {},
   "outputs": [],
   "source": [
    "# computing P(w/t) and storing in T x V matrix\n",
    "t = len(T)\n",
    "v = len(V)\n",
    "w_given_t = np.zeros((t, v))"
   ]
  },
  {
   "cell_type": "code",
   "execution_count": 11,
   "metadata": {},
   "outputs": [],
   "source": [
    "# compute word given tag: Emission Probability\n",
    "def word_given_tag(word, tag, train_bag = train_tagged_words):\n",
    "    tag_list = [pair for pair in train_bag if pair[1]==tag]\n",
    "    count_tag = len(tag_list)\n",
    "    w_given_tag_list = [pair[0] for pair in tag_list if pair[0]==word]\n",
    "    count_w_given_tag = len(w_given_tag_list)\n",
    "    \n",
    "    return (count_w_given_tag, count_tag)"
   ]
  },
  {
   "cell_type": "code",
   "execution_count": 12,
   "metadata": {},
   "outputs": [
    {
     "name": "stdout",
     "output_type": "stream",
     "text": [
      "\n",
      " The\n",
      "(681, 8265)\n",
      "(0, 12823)\n",
      "(4, 27269) \n",
      "\n",
      "\n",
      " problem\n",
      "(0, 12823)\n",
      "(29, 27269)\n",
      "(0, 6076)\n",
      "\n",
      " involves\n",
      "(0, 27269)\n",
      "(2, 12823)\n",
      "(0, 2155)\n"
     ]
    }
   ],
   "source": [
    "# testing the code with examples\n",
    "\n",
    "# large\n",
    "print(\"\\n\", \"The\")\n",
    "print(word_given_tag('The', 'DET'))\n",
    "print(word_given_tag('The', 'VERB'))\n",
    "print(word_given_tag('The', 'NOUN'), \"\\n\")\n",
    "\n",
    "# will\n",
    "print(\"\\n\", \"problem\")\n",
    "print(word_given_tag('problem', 'VERB'))\n",
    "print(word_given_tag('problem', 'NOUN'))\n",
    "print(word_given_tag('problem', 'ADJ'))\n",
    "\n",
    "# book\n",
    "print(\"\\n\", \"involves\")\n",
    "print(word_given_tag('involves', 'NOUN'))\n",
    "print(word_given_tag('involves', 'VERB'))\n",
    "print(word_given_tag('involves', 'CONJ'))"
   ]
  },
  {
   "cell_type": "markdown",
   "metadata": {},
   "source": [
    "### Transition Probabilities"
   ]
  },
  {
   "cell_type": "code",
   "execution_count": 13,
   "metadata": {},
   "outputs": [],
   "source": [
    "# compute tag given tag: tag2(t2) given tag1 (t1), i.e. Transition Probability\n",
    "\n",
    "def t2_given_t1(t2, t1, train_bag = train_tagged_words):\n",
    "    tags = [pair[1] for pair in train_bag]\n",
    "    count_t1 = len([t for t in tags if t==t1])\n",
    "    count_t2_t1 = 0\n",
    "    for index in range(len(tags)-1):\n",
    "        if tags[index]==t1 and tags[index+1] == t2:\n",
    "            count_t2_t1 += 1\n",
    "    return (count_t2_t1, count_t1)"
   ]
  },
  {
   "cell_type": "code",
   "execution_count": 14,
   "metadata": {},
   "outputs": [
    {
     "name": "stdout",
     "output_type": "stream",
     "text": [
      "(5275, 8265)\n",
      "(2997, 9320)\n",
      "(1417, 12823)\n",
      "(127, 27269)\n",
      "(0, 2614)\n",
      "(127, 27269)\n",
      "(1280, 2614)\n"
     ]
    }
   ],
   "source": [
    "# examples\n",
    "print(t2_given_t1(t2='NOUN', t1='DET'))\n",
    "print(t2_given_t1('NOUN', 'ADP'))\n",
    "print(t2_given_t1('NOUN', 'VERB'))\n",
    "print(t2_given_t1('PRON', 'NOUN'))\n",
    "print(t2_given_t1(',', 'PRON'))\n",
    "print(t2_given_t1('PRON', 'NOUN'))\n",
    "print(t2_given_t1('VERB', 'PRON'))"
   ]
  },
  {
   "cell_type": "code",
   "execution_count": 15,
   "metadata": {},
   "outputs": [
    {
     "name": "stdout",
     "output_type": "stream",
     "text": [
      "(1924, 11142)\n",
      "(979, 11142)\n",
      "(2462, 11142)\n",
      "(742, 11142)\n"
     ]
    }
   ],
   "source": [
    "# Checking the transition with start words herein (.)\n",
    "print(t2_given_t1('DET', '.'))\n",
    "print(t2_given_t1('VERB', '.'))\n",
    "print(t2_given_t1('NOUN', '.'))\n",
    "print(t2_given_t1('PRON', '.'))"
   ]
  },
  {
   "cell_type": "code",
   "execution_count": 16,
   "metadata": {},
   "outputs": [],
   "source": [
    "# creating t x t transition matrix of tags\n",
    "# each column is t2, each row is t1\n",
    "# thus M(i, j) represents P(tj given ti)\n",
    "\n",
    "tags_matrix = np.zeros((len(T), len(T)), dtype='float32')\n",
    "for i, t1 in enumerate(list(T)):\n",
    "    for j, t2 in enumerate(list(T)): \n",
    "        tags_matrix[i, j] = t2_given_t1(t2, t1)[0]/t2_given_t1(t2, t1)[1]"
   ]
  },
  {
   "cell_type": "code",
   "execution_count": 17,
   "metadata": {
    "scrolled": true
   },
   "outputs": [
    {
     "data": {
      "text/plain": [
       "array([[1.69527903e-02, 1.50214590e-03, 6.22317605e-02, 1.06652364e-01,\n",
       "        3.21566522e-01, 4.09871228e-02, 8.04721005e-03, 8.58369109e-04,\n",
       "        3.45493555e-02, 1.36266090e-02, 6.92060068e-02, 3.23819757e-01],\n",
       "       [2.10042670e-02, 1.96915003e-03, 5.74335419e-02, 8.53298306e-02,\n",
       "        2.46471941e-01, 4.33213003e-02, 4.00393844e-01, 1.64095836e-03,\n",
       "        1.34558585e-02, 9.51755792e-03, 1.77223496e-02, 1.01739414e-01],\n",
       "       [3.50825489e-02, 2.68278308e-02, 1.86615571e-01, 3.30188684e-02,\n",
       "        3.51709902e-01, 1.13797173e-01, 1.79834906e-02, 1.35613205e-02,\n",
       "        2.14327827e-01, 2.65330193e-03, 1.47405663e-03, 2.94811325e-03],\n",
       "       [7.73535222e-02, 1.08624091e-02, 2.09019091e-02, 6.68202788e-02,\n",
       "        6.98321283e-01, 6.46807104e-02, 1.25082294e-02, 1.71165243e-02,\n",
       "        2.12310739e-02, 4.44371300e-03, 6.58327830e-04, 5.10204071e-03],\n",
       "       [1.76354095e-01, 4.38593291e-02, 9.68132354e-03, 1.21749975e-02,\n",
       "        2.62459189e-01, 2.41042942e-01, 1.47236794e-01, 4.32359092e-02,\n",
       "        2.86772531e-02, 1.72356889e-02, 4.65730298e-03, 1.33851627e-02],\n",
       "       [9.11865011e-02, 2.42326339e-03, 8.24807063e-02, 4.44264933e-02,\n",
       "        2.20965713e-01, 9.45072696e-02, 8.78657326e-02, 5.75300679e-02,\n",
       "        2.66558975e-02, 5.25937900e-02, 6.65948689e-02, 1.72679946e-01],\n",
       "       [9.16322246e-02, 3.19737978e-02, 2.27715820e-02, 6.51173666e-02,\n",
       "        1.10504560e-01, 3.47812511e-02, 1.68213367e-01, 5.22498647e-03,\n",
       "        2.17109874e-01, 8.20400864e-02, 3.59510258e-02, 1.34679869e-01],\n",
       "       [5.29002324e-02, 5.10440813e-03, 4.12993021e-02, 1.17865428e-01,\n",
       "        3.49884003e-01, 3.57308574e-02, 1.54988393e-01, 4.64037119e-04,\n",
       "        8.81670509e-03, 5.56844547e-02, 5.89327142e-02, 1.18329465e-01],\n",
       "       [1.43838897e-01, 1.83794156e-01, 2.71695689e-03, 1.75803099e-02,\n",
       "        6.12114444e-02, 1.65734380e-01, 2.03292310e-01, 1.03883650e-02,\n",
       "        7.51158670e-02, 2.49320753e-02, 5.60971722e-02, 5.52980676e-02],\n",
       "       [1.19000003e-01, 1.40000004e-02, 3.20000015e-02, 1.30999997e-01,\n",
       "        3.09999995e-02, 1.37333333e-01, 3.43333334e-01, 7.00000022e-03,\n",
       "        2.23333333e-02, 7.80000016e-02, 1.53333331e-02, 6.96666688e-02],\n",
       "       [2.29533277e-02, 1.22417752e-02, 7.26855407e-03, 7.23029822e-02,\n",
       "        2.08110169e-01, 4.01683226e-02, 4.89670992e-01, 4.97322110e-03,\n",
       "        9.21958685e-02, 3.28997709e-02, 8.03366490e-03, 9.18133091e-03],\n",
       "       [9.43738688e-03, 2.41984264e-04, 2.18995772e-02, 2.05202669e-01,\n",
       "        6.38233542e-01, 1.76648516e-02, 3.92014533e-02, 6.04960660e-04,\n",
       "        4.57350276e-02, 1.25831822e-02, 3.75075615e-03, 5.44464588e-03]],\n",
       "      dtype=float32)"
      ]
     },
     "execution_count": 17,
     "metadata": {},
     "output_type": "execute_result"
    }
   ],
   "source": [
    "tags_matrix"
   ]
  },
  {
   "cell_type": "code",
   "execution_count": 18,
   "metadata": {},
   "outputs": [
    {
     "data": {
      "text/html": [
       "<div>\n",
       "<style scoped>\n",
       "    .dataframe tbody tr th:only-of-type {\n",
       "        vertical-align: middle;\n",
       "    }\n",
       "\n",
       "    .dataframe tbody tr th {\n",
       "        vertical-align: top;\n",
       "    }\n",
       "\n",
       "    .dataframe thead th {\n",
       "        text-align: right;\n",
       "    }\n",
       "</style>\n",
       "<table border=\"1\" class=\"dataframe\">\n",
       "  <thead>\n",
       "    <tr style=\"text-align: right;\">\n",
       "      <th></th>\n",
       "      <th>ADP</th>\n",
       "      <th>PRT</th>\n",
       "      <th>NUM</th>\n",
       "      <th>ADJ</th>\n",
       "      <th>NOUN</th>\n",
       "      <th>.</th>\n",
       "      <th>VERB</th>\n",
       "      <th>CONJ</th>\n",
       "      <th>X</th>\n",
       "      <th>ADV</th>\n",
       "      <th>PRON</th>\n",
       "      <th>DET</th>\n",
       "    </tr>\n",
       "  </thead>\n",
       "  <tbody>\n",
       "    <tr>\n",
       "      <th>ADP</th>\n",
       "      <td>0.016953</td>\n",
       "      <td>0.001502</td>\n",
       "      <td>0.062232</td>\n",
       "      <td>0.106652</td>\n",
       "      <td>0.321567</td>\n",
       "      <td>0.040987</td>\n",
       "      <td>0.008047</td>\n",
       "      <td>0.000858</td>\n",
       "      <td>0.034549</td>\n",
       "      <td>0.013627</td>\n",
       "      <td>0.069206</td>\n",
       "      <td>0.323820</td>\n",
       "    </tr>\n",
       "    <tr>\n",
       "      <th>PRT</th>\n",
       "      <td>0.021004</td>\n",
       "      <td>0.001969</td>\n",
       "      <td>0.057434</td>\n",
       "      <td>0.085330</td>\n",
       "      <td>0.246472</td>\n",
       "      <td>0.043321</td>\n",
       "      <td>0.400394</td>\n",
       "      <td>0.001641</td>\n",
       "      <td>0.013456</td>\n",
       "      <td>0.009518</td>\n",
       "      <td>0.017722</td>\n",
       "      <td>0.101739</td>\n",
       "    </tr>\n",
       "    <tr>\n",
       "      <th>NUM</th>\n",
       "      <td>0.035083</td>\n",
       "      <td>0.026828</td>\n",
       "      <td>0.186616</td>\n",
       "      <td>0.033019</td>\n",
       "      <td>0.351710</td>\n",
       "      <td>0.113797</td>\n",
       "      <td>0.017983</td>\n",
       "      <td>0.013561</td>\n",
       "      <td>0.214328</td>\n",
       "      <td>0.002653</td>\n",
       "      <td>0.001474</td>\n",
       "      <td>0.002948</td>\n",
       "    </tr>\n",
       "    <tr>\n",
       "      <th>ADJ</th>\n",
       "      <td>0.077354</td>\n",
       "      <td>0.010862</td>\n",
       "      <td>0.020902</td>\n",
       "      <td>0.066820</td>\n",
       "      <td>0.698321</td>\n",
       "      <td>0.064681</td>\n",
       "      <td>0.012508</td>\n",
       "      <td>0.017117</td>\n",
       "      <td>0.021231</td>\n",
       "      <td>0.004444</td>\n",
       "      <td>0.000658</td>\n",
       "      <td>0.005102</td>\n",
       "    </tr>\n",
       "    <tr>\n",
       "      <th>NOUN</th>\n",
       "      <td>0.176354</td>\n",
       "      <td>0.043859</td>\n",
       "      <td>0.009681</td>\n",
       "      <td>0.012175</td>\n",
       "      <td>0.262459</td>\n",
       "      <td>0.241043</td>\n",
       "      <td>0.147237</td>\n",
       "      <td>0.043236</td>\n",
       "      <td>0.028677</td>\n",
       "      <td>0.017236</td>\n",
       "      <td>0.004657</td>\n",
       "      <td>0.013385</td>\n",
       "    </tr>\n",
       "    <tr>\n",
       "      <th>.</th>\n",
       "      <td>0.091187</td>\n",
       "      <td>0.002423</td>\n",
       "      <td>0.082481</td>\n",
       "      <td>0.044426</td>\n",
       "      <td>0.220966</td>\n",
       "      <td>0.094507</td>\n",
       "      <td>0.087866</td>\n",
       "      <td>0.057530</td>\n",
       "      <td>0.026656</td>\n",
       "      <td>0.052594</td>\n",
       "      <td>0.066595</td>\n",
       "      <td>0.172680</td>\n",
       "    </tr>\n",
       "    <tr>\n",
       "      <th>VERB</th>\n",
       "      <td>0.091632</td>\n",
       "      <td>0.031974</td>\n",
       "      <td>0.022772</td>\n",
       "      <td>0.065117</td>\n",
       "      <td>0.110505</td>\n",
       "      <td>0.034781</td>\n",
       "      <td>0.168213</td>\n",
       "      <td>0.005225</td>\n",
       "      <td>0.217110</td>\n",
       "      <td>0.082040</td>\n",
       "      <td>0.035951</td>\n",
       "      <td>0.134680</td>\n",
       "    </tr>\n",
       "    <tr>\n",
       "      <th>CONJ</th>\n",
       "      <td>0.052900</td>\n",
       "      <td>0.005104</td>\n",
       "      <td>0.041299</td>\n",
       "      <td>0.117865</td>\n",
       "      <td>0.349884</td>\n",
       "      <td>0.035731</td>\n",
       "      <td>0.154988</td>\n",
       "      <td>0.000464</td>\n",
       "      <td>0.008817</td>\n",
       "      <td>0.055684</td>\n",
       "      <td>0.058933</td>\n",
       "      <td>0.118329</td>\n",
       "    </tr>\n",
       "    <tr>\n",
       "      <th>X</th>\n",
       "      <td>0.143839</td>\n",
       "      <td>0.183794</td>\n",
       "      <td>0.002717</td>\n",
       "      <td>0.017580</td>\n",
       "      <td>0.061211</td>\n",
       "      <td>0.165734</td>\n",
       "      <td>0.203292</td>\n",
       "      <td>0.010388</td>\n",
       "      <td>0.075116</td>\n",
       "      <td>0.024932</td>\n",
       "      <td>0.056097</td>\n",
       "      <td>0.055298</td>\n",
       "    </tr>\n",
       "    <tr>\n",
       "      <th>ADV</th>\n",
       "      <td>0.119000</td>\n",
       "      <td>0.014000</td>\n",
       "      <td>0.032000</td>\n",
       "      <td>0.131000</td>\n",
       "      <td>0.031000</td>\n",
       "      <td>0.137333</td>\n",
       "      <td>0.343333</td>\n",
       "      <td>0.007000</td>\n",
       "      <td>0.022333</td>\n",
       "      <td>0.078000</td>\n",
       "      <td>0.015333</td>\n",
       "      <td>0.069667</td>\n",
       "    </tr>\n",
       "    <tr>\n",
       "      <th>PRON</th>\n",
       "      <td>0.022953</td>\n",
       "      <td>0.012242</td>\n",
       "      <td>0.007269</td>\n",
       "      <td>0.072303</td>\n",
       "      <td>0.208110</td>\n",
       "      <td>0.040168</td>\n",
       "      <td>0.489671</td>\n",
       "      <td>0.004973</td>\n",
       "      <td>0.092196</td>\n",
       "      <td>0.032900</td>\n",
       "      <td>0.008034</td>\n",
       "      <td>0.009181</td>\n",
       "    </tr>\n",
       "    <tr>\n",
       "      <th>DET</th>\n",
       "      <td>0.009437</td>\n",
       "      <td>0.000242</td>\n",
       "      <td>0.021900</td>\n",
       "      <td>0.205203</td>\n",
       "      <td>0.638234</td>\n",
       "      <td>0.017665</td>\n",
       "      <td>0.039201</td>\n",
       "      <td>0.000605</td>\n",
       "      <td>0.045735</td>\n",
       "      <td>0.012583</td>\n",
       "      <td>0.003751</td>\n",
       "      <td>0.005445</td>\n",
       "    </tr>\n",
       "  </tbody>\n",
       "</table>\n",
       "</div>"
      ],
      "text/plain": [
       "           ADP       PRT       NUM       ADJ      NOUN         .      VERB  \\\n",
       "ADP   0.016953  0.001502  0.062232  0.106652  0.321567  0.040987  0.008047   \n",
       "PRT   0.021004  0.001969  0.057434  0.085330  0.246472  0.043321  0.400394   \n",
       "NUM   0.035083  0.026828  0.186616  0.033019  0.351710  0.113797  0.017983   \n",
       "ADJ   0.077354  0.010862  0.020902  0.066820  0.698321  0.064681  0.012508   \n",
       "NOUN  0.176354  0.043859  0.009681  0.012175  0.262459  0.241043  0.147237   \n",
       ".     0.091187  0.002423  0.082481  0.044426  0.220966  0.094507  0.087866   \n",
       "VERB  0.091632  0.031974  0.022772  0.065117  0.110505  0.034781  0.168213   \n",
       "CONJ  0.052900  0.005104  0.041299  0.117865  0.349884  0.035731  0.154988   \n",
       "X     0.143839  0.183794  0.002717  0.017580  0.061211  0.165734  0.203292   \n",
       "ADV   0.119000  0.014000  0.032000  0.131000  0.031000  0.137333  0.343333   \n",
       "PRON  0.022953  0.012242  0.007269  0.072303  0.208110  0.040168  0.489671   \n",
       "DET   0.009437  0.000242  0.021900  0.205203  0.638234  0.017665  0.039201   \n",
       "\n",
       "          CONJ         X       ADV      PRON       DET  \n",
       "ADP   0.000858  0.034549  0.013627  0.069206  0.323820  \n",
       "PRT   0.001641  0.013456  0.009518  0.017722  0.101739  \n",
       "NUM   0.013561  0.214328  0.002653  0.001474  0.002948  \n",
       "ADJ   0.017117  0.021231  0.004444  0.000658  0.005102  \n",
       "NOUN  0.043236  0.028677  0.017236  0.004657  0.013385  \n",
       ".     0.057530  0.026656  0.052594  0.066595  0.172680  \n",
       "VERB  0.005225  0.217110  0.082040  0.035951  0.134680  \n",
       "CONJ  0.000464  0.008817  0.055684  0.058933  0.118329  \n",
       "X     0.010388  0.075116  0.024932  0.056097  0.055298  \n",
       "ADV   0.007000  0.022333  0.078000  0.015333  0.069667  \n",
       "PRON  0.004973  0.092196  0.032900  0.008034  0.009181  \n",
       "DET   0.000605  0.045735  0.012583  0.003751  0.005445  "
      ]
     },
     "execution_count": 18,
     "metadata": {},
     "output_type": "execute_result"
    }
   ],
   "source": [
    "# convert the matrix to a dataframe for better readability\n",
    "tags_df = pd.DataFrame(tags_matrix, columns = list(T), index=list(T))\n",
    "tags_df"
   ]
  },
  {
   "cell_type": "code",
   "execution_count": 19,
   "metadata": {},
   "outputs": [
    {
     "data": {
      "text/plain": [
       "ADP     0.091187\n",
       "PRT     0.002423\n",
       "NUM     0.082481\n",
       "ADJ     0.044426\n",
       "NOUN    0.220966\n",
       ".       0.094507\n",
       "VERB    0.087866\n",
       "CONJ    0.057530\n",
       "X       0.026656\n",
       "ADV     0.052594\n",
       "PRON    0.066595\n",
       "DET     0.172680\n",
       "Name: ., dtype: float32"
      ]
     },
     "execution_count": 19,
     "metadata": {},
     "output_type": "execute_result"
    }
   ],
   "source": [
    "tags_df.loc['.', :]"
   ]
  },
  {
   "cell_type": "code",
   "execution_count": 20,
   "metadata": {},
   "outputs": [
    {
     "data": {
      "image/png": "[encoded data removed]",
      "text/plain": [
       "<Figure size 1440x576 with 2 Axes>"
      ]
     },
     "metadata": {},
     "output_type": "display_data"
    }
   ],
   "source": [
    "# heatmap of tags matrix\n",
    "# T(i, j) means P(tag j given tag i)\n",
    "plt.figure(figsize=(20, 8))\n",
    "sns.heatmap(tags_df)\n",
    "plt.show()"
   ]
  },
  {
   "cell_type": "code",
   "execution_count": 21,
   "metadata": {},
   "outputs": [
    {
     "data": {
      "image/png": "[encoded data removed]",
      "text/plain": [
       "<Figure size 1440x432 with 2 Axes>"
      ]
     },
     "metadata": {},
     "output_type": "display_data"
    }
   ],
   "source": [
    "# frequent tags\n",
    "# filter the df to get P(t2, t1) > 0.3 (consdering the average of probabilities in the dataframe)\n",
    "tags_frequent = tags_df[tags_df>0.3]\n",
    "plt.figure(figsize=(20, 6))\n",
    "sns.heatmap(tags_frequent)\n",
    "plt.show()"
   ]
  },
  {
   "cell_type": "markdown",
   "metadata": {},
   "source": [
    "#### As per above graph. Most transition probability can be observed between NOUN and other vocablories."
   ]
  },
  {
   "cell_type": "markdown",
   "metadata": {},
   "source": [
    "### Build the vanilla Viterbi based POS tagger"
   ]
  },
  {
   "cell_type": "code",
   "execution_count": 22,
   "metadata": {},
   "outputs": [
    {
     "data": {
      "text/plain": [
       "95360"
      ]
     },
     "execution_count": 22,
     "metadata": {},
     "output_type": "execute_result"
    }
   ],
   "source": [
    "len(train_tagged_words)"
   ]
  },
  {
   "cell_type": "code",
   "execution_count": 23,
   "metadata": {},
   "outputs": [],
   "source": [
    "# Viterbi Heuristic\n",
    "def VanillaViterbi(words, train_bag = train_tagged_words):\n",
    "    state = []\n",
    "    T = list(set([pair[1] for pair in train_bag]))\n",
    "    \n",
    "    for key, word in enumerate(words):\n",
    "        #initialise list of probability column for a given observation\n",
    "        p = [] \n",
    "        for tag in T:\n",
    "            if key == 0:\n",
    "                transition_p = tags_df.loc['.', tag]\n",
    "            else:\n",
    "                transition_p = tags_df.loc[state[-1], tag]\n",
    "                \n",
    "            # compute emission and state probabilities\n",
    "            emission_p = word_given_tag(words[key], tag)[0]/word_given_tag(words[key], tag)[1]\n",
    "            state_probability = emission_p * transition_p    \n",
    "            p.append(state_probability)\n",
    "            \n",
    "        pmax = max(p)\n",
    "        # getting state for which probability is maximum\n",
    "        state_max = T[p.index(pmax)] \n",
    "        state.append(state_max)\n",
    "    return list(zip(words, state))"
   ]
  },
  {
   "cell_type": "markdown",
   "metadata": {},
   "source": [
    "### Test Set Evaluation"
   ]
  },
  {
   "cell_type": "code",
   "execution_count": 24,
   "metadata": {},
   "outputs": [
    {
     "data": {
      "text/plain": [
       "[[('Terms', 'NOUN'),\n",
       "  ('were', 'VERB'),\n",
       "  (\"n't\", 'ADV'),\n",
       "  ('disclosed', 'VERB'),\n",
       "  ('*-1', 'X'),\n",
       "  ('.', '.')],\n",
       " [('``', '.'),\n",
       "  ('U.S.', 'NOUN'),\n",
       "  ('investors', 'NOUN'),\n",
       "  ('should', 'VERB'),\n",
       "  ('have', 'VERB'),\n",
       "  ('a', 'DET'),\n",
       "  ('greater', 'ADJ'),\n",
       "  ('opportunity', 'NOUN'),\n",
       "  ('at', 'ADP'),\n",
       "  ('direct', 'ADJ'),\n",
       "  ('investment', 'NOUN'),\n",
       "  (\"''\", '.'),\n",
       "  ('in', 'ADP'),\n",
       "  ('Japan', 'NOUN'),\n",
       "  ('.', '.')],\n",
       " [('According', 'VERB'),\n",
       "  ('to', 'PRT'),\n",
       "  ('reports', 'NOUN'),\n",
       "  ('carried', 'VERB'),\n",
       "  ('*', 'X'),\n",
       "  ('by', 'ADP'),\n",
       "  ('various', 'ADJ'),\n",
       "  ('news', 'NOUN'),\n",
       "  ('services', 'NOUN'),\n",
       "  (',', '.'),\n",
       "  ('the', 'DET'),\n",
       "  ('Brazilian', 'ADJ'),\n",
       "  ('government', 'NOUN'),\n",
       "  ('told', 'VERB'),\n",
       "  ('its', 'PRON'),\n",
       "  ('sugar', 'NOUN'),\n",
       "  ('producers', 'NOUN'),\n",
       "  ('that', 'ADP'),\n",
       "  ('they', 'PRON'),\n",
       "  ('wo', 'VERB'),\n",
       "  (\"n't\", 'ADV'),\n",
       "  ('be', 'VERB'),\n",
       "  ('allowed', 'VERB'),\n",
       "  ('*-1', 'X'),\n",
       "  ('to', 'PRT'),\n",
       "  ('export', 'VERB'),\n",
       "  ('sugar', 'NOUN'),\n",
       "  ('during', 'ADP'),\n",
       "  ('the', 'DET'),\n",
       "  ('current', 'ADJ'),\n",
       "  ('1989-90', 'NUM'),\n",
       "  ('season', 'NOUN'),\n",
       "  (',', '.'),\n",
       "  ('which', 'DET'),\n",
       "  ('*T*-92', 'X'),\n",
       "  ('began', 'VERB'),\n",
       "  ('May', 'NOUN'),\n",
       "  ('1', 'NUM'),\n",
       "  (',', '.'),\n",
       "  ('and', 'CONJ'),\n",
       "  ('the', 'DET'),\n",
       "  ('1990-91', 'NUM'),\n",
       "  ('season', 'NOUN'),\n",
       "  ('so', 'ADP'),\n",
       "  ('that', 'ADP'),\n",
       "  ('it', 'PRON'),\n",
       "  ('can', 'VERB'),\n",
       "  ('be', 'VERB'),\n",
       "  ('used', 'VERB'),\n",
       "  ('*-2', 'X'),\n",
       "  ('*', 'X'),\n",
       "  ('to', 'PRT'),\n",
       "  ('produce', 'VERB'),\n",
       "  ('alcohol', 'NOUN'),\n",
       "  ('for', 'ADP'),\n",
       "  ('automobile', 'NOUN'),\n",
       "  ('fuel', 'NOUN'),\n",
       "  ('.', '.')],\n",
       " [('The', 'DET'),\n",
       "  ('department', 'NOUN'),\n",
       "  ('said', 'VERB'),\n",
       "  ('0', 'X'),\n",
       "  ('orders', 'NOUN'),\n",
       "  ('for', 'ADP'),\n",
       "  ('nondurable', 'ADJ'),\n",
       "  ('goods', 'NOUN'),\n",
       "  ('--', '.'),\n",
       "  ('those', 'DET'),\n",
       "  ('intended', 'VERB'),\n",
       "  ('*', 'X'),\n",
       "  ('to', 'PRT'),\n",
       "  ('last', 'VERB'),\n",
       "  ('fewer', 'ADJ'),\n",
       "  ('than', 'ADP'),\n",
       "  ('three', 'NUM'),\n",
       "  ('years', 'NOUN'),\n",
       "  ('--', '.'),\n",
       "  ('fell', 'VERB'),\n",
       "  ('0.3', 'NUM'),\n",
       "  ('%', 'NOUN'),\n",
       "  ('in', 'ADP'),\n",
       "  ('September', 'NOUN'),\n",
       "  ('to', 'PRT'),\n",
       "  ('$', '.'),\n",
       "  ('109.73', 'NUM'),\n",
       "  ('billion', 'NUM'),\n",
       "  ('*U*', 'X'),\n",
       "  ('after', 'ADV'),\n",
       "  ('*-1', 'X'),\n",
       "  ('climbing', 'VERB'),\n",
       "  ('0.9', 'NUM'),\n",
       "  ('%', 'NOUN'),\n",
       "  ('the', 'DET'),\n",
       "  ('month', 'NOUN'),\n",
       "  ('before', 'ADV'),\n",
       "  ('.', '.')],\n",
       " [('The', 'DET'),\n",
       "  ('banks', 'NOUN'),\n",
       "  ('have', 'VERB'),\n",
       "  ('28', 'NUM'),\n",
       "  ('days', 'NOUN'),\n",
       "  ('0', 'X'),\n",
       "  ('*', 'X'),\n",
       "  ('to', 'PRT'),\n",
       "  ('file', 'VERB'),\n",
       "  ('an', 'DET'),\n",
       "  ('appeal', 'NOUN'),\n",
       "  ('against', 'ADP'),\n",
       "  ('the', 'DET'),\n",
       "  ('ruling', 'NOUN'),\n",
       "  ('*T*-2', 'X'),\n",
       "  ('and', 'CONJ'),\n",
       "  ('are', 'VERB'),\n",
       "  ('expected', 'VERB'),\n",
       "  ('*-1', 'X'),\n",
       "  ('to', 'PRT'),\n",
       "  ('do', 'VERB'),\n",
       "  ('so', 'ADV'),\n",
       "  ('shortly', 'ADV'),\n",
       "  ('.', '.')],\n",
       " [('Superconductors', 'NOUN'),\n",
       "  ('conduct', 'VERB'),\n",
       "  ('electricity', 'NOUN'),\n",
       "  ('without', 'ADP'),\n",
       "  ('resistance', 'NOUN'),\n",
       "  ('when', 'ADV'),\n",
       "  ('*-3', 'X'),\n",
       "  ('cooled', 'VERB'),\n",
       "  ('*-2', 'X'),\n",
       "  ('*T*-1', 'X'),\n",
       "  ('.', '.')],\n",
       " [('Wall', 'NOUN'),\n",
       "  ('Street', 'NOUN'),\n",
       "  (\"'s\", 'PRT'),\n",
       "  ('big', 'ADJ'),\n",
       "  ('securities', 'NOUN'),\n",
       "  ('firms', 'NOUN'),\n",
       "  ('face', 'VERB'),\n",
       "  ('the', 'DET'),\n",
       "  ('prospect', 'NOUN'),\n",
       "  ('of', 'ADP'),\n",
       "  ('*', 'X'),\n",
       "  ('having', 'VERB'),\n",
       "  ('their', 'PRON'),\n",
       "  ('credit', 'NOUN'),\n",
       "  ('ratings', 'NOUN'),\n",
       "  ('lowered', 'VERB'),\n",
       "  ('.', '.')],\n",
       " [('In', 'ADP'),\n",
       "  ('most', 'ADJ'),\n",
       "  ('of', 'ADP'),\n",
       "  ('the', 'DET'),\n",
       "  ('British', 'ADJ'),\n",
       "  ('transactions', 'NOUN'),\n",
       "  (',', '.'),\n",
       "  ('the', 'DET'),\n",
       "  ('municipalities', 'NOUN'),\n",
       "  ('agreed', 'VERB'),\n",
       "  ('*-1', 'X'),\n",
       "  ('to', 'PRT'),\n",
       "  ('make', 'VERB'),\n",
       "  ('floating-rate', 'ADJ'),\n",
       "  ('payments', 'NOUN'),\n",
       "  ('to', 'PRT'),\n",
       "  ('banks', 'NOUN'),\n",
       "  (',', '.'),\n",
       "  ('which', 'DET'),\n",
       "  ('*T*-62', 'X'),\n",
       "  ('would', 'VERB'),\n",
       "  ('make', 'VERB'),\n",
       "  ('fixed-rate', 'ADJ'),\n",
       "  ('payments', 'NOUN'),\n",
       "  ('.', '.')],\n",
       " [('River', 'NOUN'),\n",
       "  ('barge', 'NOUN'),\n",
       "  ('rates', 'NOUN'),\n",
       "  ('have', 'VERB'),\n",
       "  ('soared', 'VERB'),\n",
       "  ('40', 'NUM'),\n",
       "  ('%', 'NOUN'),\n",
       "  ('this', 'DET'),\n",
       "  ('fall', 'NOUN'),\n",
       "  ('from', 'ADP'),\n",
       "  ('a', 'DET'),\n",
       "  ('year', 'NOUN'),\n",
       "  ('earlier', 'ADJ'),\n",
       "  ('.', '.')],\n",
       " [('The', 'DET'),\n",
       "  ('screen', 'NOUN'),\n",
       "  ('fills', 'VERB'),\n",
       "  ('with', 'ADP'),\n",
       "  ('a', 'DET'),\n",
       "  ('small', 'ADJ'),\n",
       "  (',', '.'),\n",
       "  ('tight', 'ADJ'),\n",
       "  ('facial', 'ADJ'),\n",
       "  ('shot', 'NOUN'),\n",
       "  ('of', 'ADP'),\n",
       "  ('David', 'NOUN'),\n",
       "  ('Dinkins', 'NOUN'),\n",
       "  (',', '.'),\n",
       "  ('Democratic', 'ADJ'),\n",
       "  ('candidate', 'NOUN'),\n",
       "  ('for', 'ADP'),\n",
       "  ('mayor', 'NOUN'),\n",
       "  ('of', 'ADP'),\n",
       "  ('New', 'NOUN'),\n",
       "  ('York', 'NOUN'),\n",
       "  ('City', 'NOUN'),\n",
       "  ('.', '.')]]"
      ]
     },
     "execution_count": 24,
     "metadata": {},
     "output_type": "execute_result"
    }
   ],
   "source": [
    "# Running on entire test dataset is taking more than half an hour \n",
    "# Hence, Let's test our Viterbi algorithm on a few sample sentences of test dataset\n",
    "\n",
    "random.seed(1234)\n",
    "\n",
    "# choose random 5 sents\n",
    "rndom = [random.randint(1,len(test_set)) for x in range(10)]\n",
    "\n",
    "# list of sents\n",
    "test_run = [test_set[i] for i in rndom]\n",
    "\n",
    "# list of tagged words\n",
    "test_run_base = [tup for sent in test_run for tup in sent]\n",
    "\n",
    "# list of untagged words\n",
    "test_tagged_words = [tup[0] for sent in test_run for tup in sent]\n",
    "test_run\n"
   ]
  },
  {
   "cell_type": "code",
   "execution_count": 25,
   "metadata": {},
   "outputs": [
    {
     "name": "stdout",
     "output_type": "stream",
     "text": [
      "Time taken in seconds:  57.11030125617981\n",
      "[('Terms', 'NOUN'), ('were', 'VERB'), (\"n't\", 'ADV'), ('disclosed', 'VERB'), ('*-1', 'X'), ('.', '.'), ('``', '.'), ('U.S.', 'NOUN'), ('investors', 'NOUN'), ('should', 'VERB'), ('have', 'VERB'), ('a', 'DET'), ('greater', 'ADJ'), ('opportunity', 'NOUN'), ('at', 'ADP'), ('direct', 'ADJ'), ('investment', 'NOUN'), (\"''\", '.'), ('in', 'ADP'), ('Japan', 'NOUN'), ('.', '.'), ('According', 'VERB'), ('to', 'PRT'), ('reports', 'NOUN'), ('carried', 'VERB'), ('*', 'X'), ('by', 'ADP'), ('various', 'ADJ'), ('news', 'NOUN'), ('services', 'NOUN'), (',', '.'), ('the', 'DET'), ('Brazilian', 'ADJ'), ('government', 'NOUN'), ('told', 'VERB'), ('its', 'PRON'), ('sugar', 'NOUN'), ('producers', 'NOUN'), ('that', 'ADP'), ('they', 'PRON'), ('wo', 'VERB'), (\"n't\", 'ADV'), ('be', 'VERB'), ('allowed', 'VERB'), ('*-1', 'X'), ('to', 'PRT'), ('export', 'NOUN'), ('sugar', 'NOUN'), ('during', 'ADP'), ('the', 'DET'), ('current', 'ADJ'), ('1989-90', 'NUM'), ('season', 'NOUN'), (',', '.'), ('which', 'DET'), ('*T*-92', 'X'), ('began', 'VERB'), ('May', 'NOUN'), ('1', 'NUM'), (',', '.'), ('and', 'CONJ'), ('the', 'DET'), ('1990-91', 'ADP'), ('season', 'NOUN'), ('so', 'ADV'), ('that', 'ADP'), ('it', 'PRON'), ('can', 'VERB'), ('be', 'VERB'), ('used', 'VERB'), ('*-2', 'X'), ('*', 'X'), ('to', 'PRT'), ('produce', 'VERB'), ('alcohol', 'NOUN'), ('for', 'ADP'), ('automobile', 'ADP'), ('fuel', 'NOUN'), ('.', '.'), ('The', 'DET'), ('department', 'NOUN'), ('said', 'VERB'), ('0', 'X'), ('orders', 'NOUN'), ('for', 'ADP'), ('nondurable', 'ADP'), ('goods', 'NOUN'), ('--', '.'), ('those', 'DET'), ('intended', 'VERB'), ('*', 'X'), ('to', 'PRT'), ('last', 'ADJ'), ('fewer', 'ADJ'), ('than', 'ADP'), ('three', 'NUM'), ('years', 'NOUN'), ('--', '.'), ('fell', 'VERB'), ('0.3', 'NUM'), ('%', 'NOUN'), ('in', 'ADP'), ('September', 'NOUN'), ('to', 'PRT'), ('$', '.'), ('109.73', 'ADP'), ('billion', 'NUM'), ('*U*', 'X'), ('after', 'ADP'), ('*-1', 'X'), ('climbing', 'VERB'), ('0.9', 'NUM'), ('%', 'NOUN'), ('the', 'DET'), ('month', 'NOUN'), ('before', 'ADP'), ('.', '.'), ('The', 'DET'), ('banks', 'NOUN'), ('have', 'VERB'), ('28', 'NUM'), ('days', 'NOUN'), ('0', 'X'), ('*', 'X'), ('to', 'PRT'), ('file', 'VERB'), ('an', 'DET'), ('appeal', 'NOUN'), ('against', 'ADP'), ('the', 'DET'), ('ruling', 'NOUN'), ('*T*-2', 'X'), ('and', 'CONJ'), ('are', 'VERB'), ('expected', 'VERB'), ('*-1', 'X'), ('to', 'PRT'), ('do', 'VERB'), ('so', 'ADV'), ('shortly', 'ADV'), ('.', '.'), ('Superconductors', 'ADP'), ('conduct', 'NOUN'), ('electricity', 'NOUN'), ('without', 'ADP'), ('resistance', 'NOUN'), ('when', 'ADV'), ('*-3', 'X'), ('cooled', 'VERB'), ('*-2', 'X'), ('*T*-1', 'X'), ('.', '.'), ('Wall', 'NOUN'), ('Street', 'NOUN'), (\"'s\", 'PRT'), ('big', 'ADJ'), ('securities', 'NOUN'), ('firms', 'NOUN'), ('face', 'VERB'), ('the', 'DET'), ('prospect', 'NOUN'), ('of', 'ADP'), ('*', 'X'), ('having', 'VERB'), ('their', 'PRON'), ('credit', 'NOUN'), ('ratings', 'NOUN'), ('lowered', 'VERB'), ('.', '.'), ('In', 'ADP'), ('most', 'ADJ'), ('of', 'ADP'), ('the', 'DET'), ('British', 'ADJ'), ('transactions', 'NOUN'), (',', '.'), ('the', 'DET'), ('municipalities', 'NOUN'), ('agreed', 'VERB'), ('*-1', 'X'), ('to', 'PRT'), ('make', 'VERB'), ('floating-rate', 'ADJ'), ('payments', 'NOUN'), ('to', 'PRT'), ('banks', 'NOUN'), (',', '.'), ('which', 'DET'), ('*T*-62', 'X'), ('would', 'VERB'), ('make', 'VERB'), ('fixed-rate', 'ADJ'), ('payments', 'NOUN'), ('.', '.'), ('River', 'NOUN'), ('barge', 'NOUN'), ('rates', 'NOUN'), ('have', 'VERB'), ('soared', 'VERB'), ('40', 'NUM'), ('%', 'NOUN'), ('this', 'DET'), ('fall', 'NOUN'), ('from', 'ADP'), ('a', 'DET'), ('year', 'NOUN'), ('earlier', 'ADV'), ('.', '.'), ('The', 'DET'), ('screen', 'NOUN'), ('fills', 'VERB'), ('with', 'ADP'), ('a', 'DET'), ('small', 'ADJ'), (',', '.'), ('tight', 'ADJ'), ('facial', 'ADP'), ('shot', 'NOUN'), ('of', 'ADP'), ('David', 'NOUN'), ('Dinkins', 'NOUN'), (',', '.'), ('Democratic', 'ADJ'), ('candidate', 'NOUN'), ('for', 'ADP'), ('mayor', 'NOUN'), ('of', 'ADP'), ('New', 'NOUN'), ('York', 'NOUN'), ('City', 'NOUN'), ('.', '.')]\n"
     ]
    }
   ],
   "source": [
    "# tagging the test sentences\n",
    "start = time.time()\n",
    "van_tagged_seq = VanillaViterbi(test_tagged_words)\n",
    "end = time.time()\n",
    "difference = end-start\n",
    "print(\"Time taken in seconds: \", difference)\n",
    "print(van_tagged_seq)\n",
    "#print(test_run_base)"
   ]
  },
  {
   "cell_type": "code",
   "execution_count": 26,
   "metadata": {},
   "outputs": [
    {
     "data": {
      "text/plain": [
       "0.9437229437229437"
      ]
     },
     "execution_count": 26,
     "metadata": {},
     "output_type": "execute_result"
    }
   ],
   "source": [
    "# accuracy\n",
    "check = [i for i, j in zip(van_tagged_seq, test_run_base) if i == j] \n",
    "vanillaViterbiAccuracy = len(check)/len(van_tagged_seq)\n",
    "vanillaViterbiAccuracy"
   ]
  },
  {
   "cell_type": "code",
   "execution_count": 27,
   "metadata": {},
   "outputs": [
    {
     "data": {
      "text/plain": [
       "[[('to', 'PRT'), (('export', 'NOUN'), ('export', 'VERB'))],\n",
       " [('the', 'DET'), (('1990-91', 'ADP'), ('1990-91', 'NUM'))],\n",
       " [('season', 'NOUN'), (('so', 'ADV'), ('so', 'ADP'))],\n",
       " [('for', 'ADP'), (('automobile', 'ADP'), ('automobile', 'NOUN'))],\n",
       " [('for', 'ADP'), (('nondurable', 'ADP'), ('nondurable', 'ADJ'))],\n",
       " [('to', 'PRT'), (('last', 'ADJ'), ('last', 'VERB'))],\n",
       " [('$', '.'), (('109.73', 'ADP'), ('109.73', 'NUM'))],\n",
       " [('*U*', 'X'), (('after', 'ADP'), ('after', 'ADV'))],\n",
       " [('month', 'NOUN'), (('before', 'ADP'), ('before', 'ADV'))],\n",
       " [('.', '.'), (('Superconductors', 'ADP'), ('Superconductors', 'NOUN'))],\n",
       " [('Superconductors', 'NOUN'), (('conduct', 'NOUN'), ('conduct', 'VERB'))],\n",
       " [('year', 'NOUN'), (('earlier', 'ADV'), ('earlier', 'ADJ'))],\n",
       " [('tight', 'ADJ'), (('facial', 'ADP'), ('facial', 'ADJ'))]]"
      ]
     },
     "execution_count": 27,
     "metadata": {},
     "output_type": "execute_result"
    }
   ],
   "source": [
    "vanilla_incorrect_tagged_cases = [[test_run_base[i-1],j] for i, j in enumerate(zip(van_tagged_seq, test_run_base)) if j[0]!=j[1]]\n",
    "vanilla_incorrect_tagged_cases"
   ]
  },
  {
   "cell_type": "code",
   "execution_count": 28,
   "metadata": {},
   "outputs": [
    {
     "data": {
      "text/plain": [
       "{'$',\n",
       " ('109.73', 'ADP'),\n",
       " ('1990-91', 'ADP'),\n",
       " ('Superconductors', 'ADP'),\n",
       " ('after', 'ADP'),\n",
       " ('automobile', 'ADP'),\n",
       " ('before', 'ADP'),\n",
       " ('conduct', 'NOUN'),\n",
       " ('earlier', 'ADV'),\n",
       " ('export', 'NOUN'),\n",
       " ('facial', 'ADP'),\n",
       " ('last', 'ADJ'),\n",
       " ('nondurable', 'ADP'),\n",
       " ('so', 'ADV'),\n",
       " '*U*',\n",
       " '.',\n",
       " 'Superconductors',\n",
       " 'for',\n",
       " 'month',\n",
       " 'season',\n",
       " 'the',\n",
       " 'tight',\n",
       " 'to',\n",
       " 'year'}"
      ]
     },
     "execution_count": 28,
     "metadata": {},
     "output_type": "execute_result"
    }
   ],
   "source": [
    "incorrect_words = [w[0] for in_wo in vanilla_incorrect_tagged_cases for w in in_wo]\n",
    "set(incorrect_words)"
   ]
  },
  {
   "cell_type": "markdown",
   "metadata": {},
   "source": [
    "### Solve the problem of unknown words"
   ]
  },
  {
   "cell_type": "markdown",
   "metadata": {},
   "source": [
    "#### Approach 1 : Marking default transition probability on unknown words, by modifying the Viterbi Algorithm, wherien if the state of the word is zero then use rule engine to tag vocablory to the words"
   ]
  },
  {
   "cell_type": "code",
   "execution_count": 29,
   "metadata": {},
   "outputs": [],
   "source": [
    "def TransitionViterbi(words, train_bag = train_tagged_words) :\n",
    "    state = []\n",
    "    T = list(set([pair[1] for pair in train_bag]))\n",
    "    V=[i[0] for i in train_bag]\n",
    "    \n",
    "    for key, word in enumerate(words):\n",
    "        p = [] \n",
    "        for tag in T:\n",
    "            if key == 0:\n",
    "                transition_p = tags_df.loc['.', tag]\n",
    "            else:\n",
    "                transition_p = tags_df.loc[state[-1], tag]\n",
    "                \n",
    "            # compute emission and state probabilities\n",
    "            emission_p = word_given_tag(words[key], tag)[0]/word_given_tag(words[key], tag)[1] \n",
    "            \n",
    "            ## Here if the given word vocablory is present in the train vocab. \n",
    "            ## then calculate state probability, else default to transition\n",
    "            if words[key] in V:\n",
    "                state_probability = emission_p * transition_p\n",
    "            else:\n",
    "                state_probability = transition_p    #Considering only the transition prob as emission will be zero        \n",
    "            p.append(state_probability)\n",
    "            \n",
    "        pmax = max(p)\n",
    "        # getting state for which probability is maximum\n",
    "        state_max = T[p.index(pmax)] \n",
    "        \n",
    "        state.append(state_max)      \n",
    "    return list(zip(words, state))"
   ]
  },
  {
   "cell_type": "code",
   "execution_count": 30,
   "metadata": {},
   "outputs": [
    {
     "name": "stdout",
     "output_type": "stream",
     "text": [
      "Time taken in seconds:  56.13119649887085\n",
      "[('Terms', 'NOUN'), ('were', 'VERB'), (\"n't\", 'ADV'), ('disclosed', 'VERB'), ('*-1', 'X'), ('.', '.'), ('``', '.'), ('U.S.', 'NOUN'), ('investors', 'NOUN'), ('should', 'VERB'), ('have', 'VERB'), ('a', 'DET'), ('greater', 'ADJ'), ('opportunity', 'NOUN'), ('at', 'ADP'), ('direct', 'ADJ'), ('investment', 'NOUN'), (\"''\", '.'), ('in', 'ADP'), ('Japan', 'NOUN'), ('.', '.'), ('According', 'VERB'), ('to', 'PRT'), ('reports', 'NOUN'), ('carried', 'VERB'), ('*', 'X'), ('by', 'ADP'), ('various', 'ADJ'), ('news', 'NOUN'), ('services', 'NOUN'), (',', '.'), ('the', 'DET'), ('Brazilian', 'ADJ'), ('government', 'NOUN'), ('told', 'VERB'), ('its', 'PRON'), ('sugar', 'NOUN'), ('producers', 'NOUN'), ('that', 'ADP'), ('they', 'PRON'), ('wo', 'VERB'), (\"n't\", 'ADV'), ('be', 'VERB'), ('allowed', 'VERB'), ('*-1', 'X'), ('to', 'PRT'), ('export', 'NOUN'), ('sugar', 'NOUN'), ('during', 'ADP'), ('the', 'DET'), ('current', 'ADJ'), ('1989-90', 'NUM'), ('season', 'NOUN'), (',', '.'), ('which', 'DET'), ('*T*-92', 'X'), ('began', 'VERB'), ('May', 'NOUN'), ('1', 'NUM'), (',', '.'), ('and', 'CONJ'), ('the', 'DET'), ('1990-91', 'NOUN'), ('season', 'NOUN'), ('so', 'ADV'), ('that', 'ADP'), ('it', 'PRON'), ('can', 'VERB'), ('be', 'VERB'), ('used', 'VERB'), ('*-2', 'X'), ('*', 'X'), ('to', 'PRT'), ('produce', 'VERB'), ('alcohol', 'NOUN'), ('for', 'ADP'), ('automobile', 'DET'), ('fuel', 'NOUN'), ('.', '.'), ('The', 'DET'), ('department', 'NOUN'), ('said', 'VERB'), ('0', 'X'), ('orders', 'NOUN'), ('for', 'ADP'), ('nondurable', 'DET'), ('goods', 'NOUN'), ('--', '.'), ('those', 'DET'), ('intended', 'VERB'), ('*', 'X'), ('to', 'PRT'), ('last', 'ADJ'), ('fewer', 'ADJ'), ('than', 'ADP'), ('three', 'NUM'), ('years', 'NOUN'), ('--', '.'), ('fell', 'VERB'), ('0.3', 'NUM'), ('%', 'NOUN'), ('in', 'ADP'), ('September', 'NOUN'), ('to', 'PRT'), ('$', '.'), ('109.73', 'NOUN'), ('billion', 'NUM'), ('*U*', 'X'), ('after', 'ADP'), ('*-1', 'X'), ('climbing', 'VERB'), ('0.9', 'NUM'), ('%', 'NOUN'), ('the', 'DET'), ('month', 'NOUN'), ('before', 'ADP'), ('.', '.'), ('The', 'DET'), ('banks', 'NOUN'), ('have', 'VERB'), ('28', 'NUM'), ('days', 'NOUN'), ('0', 'X'), ('*', 'X'), ('to', 'PRT'), ('file', 'VERB'), ('an', 'DET'), ('appeal', 'NOUN'), ('against', 'ADP'), ('the', 'DET'), ('ruling', 'NOUN'), ('*T*-2', 'X'), ('and', 'CONJ'), ('are', 'VERB'), ('expected', 'VERB'), ('*-1', 'X'), ('to', 'PRT'), ('do', 'VERB'), ('so', 'ADV'), ('shortly', 'ADV'), ('.', '.'), ('Superconductors', 'NOUN'), ('conduct', 'VERB'), ('electricity', 'NOUN'), ('without', 'ADP'), ('resistance', 'NOUN'), ('when', 'ADV'), ('*-3', 'X'), ('cooled', 'VERB'), ('*-2', 'X'), ('*T*-1', 'X'), ('.', '.'), ('Wall', 'NOUN'), ('Street', 'NOUN'), (\"'s\", 'PRT'), ('big', 'ADJ'), ('securities', 'NOUN'), ('firms', 'NOUN'), ('face', 'VERB'), ('the', 'DET'), ('prospect', 'NOUN'), ('of', 'ADP'), ('*', 'X'), ('having', 'VERB'), ('their', 'PRON'), ('credit', 'NOUN'), ('ratings', 'NOUN'), ('lowered', 'VERB'), ('.', '.'), ('In', 'ADP'), ('most', 'ADJ'), ('of', 'ADP'), ('the', 'DET'), ('British', 'ADJ'), ('transactions', 'NOUN'), (',', '.'), ('the', 'DET'), ('municipalities', 'NOUN'), ('agreed', 'VERB'), ('*-1', 'X'), ('to', 'PRT'), ('make', 'VERB'), ('floating-rate', 'ADJ'), ('payments', 'NOUN'), ('to', 'PRT'), ('banks', 'NOUN'), (',', '.'), ('which', 'DET'), ('*T*-62', 'X'), ('would', 'VERB'), ('make', 'VERB'), ('fixed-rate', 'ADJ'), ('payments', 'NOUN'), ('.', '.'), ('River', 'NOUN'), ('barge', 'NOUN'), ('rates', 'NOUN'), ('have', 'VERB'), ('soared', 'VERB'), ('40', 'NUM'), ('%', 'NOUN'), ('this', 'DET'), ('fall', 'NOUN'), ('from', 'ADP'), ('a', 'DET'), ('year', 'NOUN'), ('earlier', 'ADV'), ('.', '.'), ('The', 'DET'), ('screen', 'NOUN'), ('fills', 'VERB'), ('with', 'ADP'), ('a', 'DET'), ('small', 'ADJ'), (',', '.'), ('tight', 'ADJ'), ('facial', 'NOUN'), ('shot', 'NOUN'), ('of', 'ADP'), ('David', 'NOUN'), ('Dinkins', 'NOUN'), (',', '.'), ('Democratic', 'ADJ'), ('candidate', 'NOUN'), ('for', 'ADP'), ('mayor', 'NOUN'), ('of', 'ADP'), ('New', 'NOUN'), ('York', 'NOUN'), ('City', 'NOUN'), ('.', '.')]\n"
     ]
    }
   ],
   "source": [
    "# tagging the test sentences with Transition Viterbi Algorithm\n",
    "start = time.time()\n",
    "tran_tagged_seq = TransitionViterbi(test_tagged_words)\n",
    "end = time.time()\n",
    "difference = end-start\n",
    "print(\"Time taken in seconds: \", difference)\n",
    "print(tran_tagged_seq)"
   ]
  },
  {
   "cell_type": "code",
   "execution_count": 31,
   "metadata": {},
   "outputs": [
    {
     "name": "stdout",
     "output_type": "stream",
     "text": [
      "0.9523809523809523\n"
     ]
    }
   ],
   "source": [
    "check = [i for i, j in zip(tran_tagged_seq, test_run_base) if i == j] \n",
    "TransitionViterbiAccuracy = len(check)/len(tran_tagged_seq)\n",
    "print(TransitionViterbiAccuracy)"
   ]
  },
  {
   "cell_type": "code",
   "execution_count": 32,
   "metadata": {},
   "outputs": [
    {
     "data": {
      "text/plain": [
       "[[('to', 'PRT'), (('export', 'NOUN'), ('export', 'VERB'))],\n",
       " [('the', 'DET'), (('1990-91', 'NOUN'), ('1990-91', 'NUM'))],\n",
       " [('season', 'NOUN'), (('so', 'ADV'), ('so', 'ADP'))],\n",
       " [('for', 'ADP'), (('automobile', 'DET'), ('automobile', 'NOUN'))],\n",
       " [('for', 'ADP'), (('nondurable', 'DET'), ('nondurable', 'ADJ'))],\n",
       " [('to', 'PRT'), (('last', 'ADJ'), ('last', 'VERB'))],\n",
       " [('$', '.'), (('109.73', 'NOUN'), ('109.73', 'NUM'))],\n",
       " [('*U*', 'X'), (('after', 'ADP'), ('after', 'ADV'))],\n",
       " [('month', 'NOUN'), (('before', 'ADP'), ('before', 'ADV'))],\n",
       " [('year', 'NOUN'), (('earlier', 'ADV'), ('earlier', 'ADJ'))],\n",
       " [('tight', 'ADJ'), (('facial', 'NOUN'), ('facial', 'ADJ'))]]"
      ]
     },
     "execution_count": 32,
     "metadata": {},
     "output_type": "execute_result"
    }
   ],
   "source": [
    "transition_incorrect_tagged_cases = [[test_run_base[i-1],j] for i, j in enumerate(zip(tran_tagged_seq, test_run_base)) if j[0]!=j[1]]\n",
    "transition_incorrect_tagged_cases"
   ]
  },
  {
   "cell_type": "markdown",
   "metadata": {},
   "source": [
    "#### Approach 2 : Running Rule Based engine on unknown words, by modifying the Viterbi Algorithm, wherien if the state of the word is zero then use rule engine to tag vocablory to the words"
   ]
  },
  {
   "cell_type": "code",
   "execution_count": 33,
   "metadata": {},
   "outputs": [],
   "source": [
    "def RuleBasedViterbi_old(words, train_bag = train_tagged_words, backoff=[]):\n",
    "    state = []\n",
    "    T = list(set([pair[1] for pair in train_bag]))\n",
    "    \n",
    "    for key, word in enumerate(words):\n",
    "        #initialise list of probability column for a given observation\n",
    "        p = [] \n",
    "        e=[]\n",
    "        t=[]\n",
    "        for tag in T:\n",
    "            if key == 0:\n",
    "                transition_p = tags_df.loc['.', tag]\n",
    "            else:\n",
    "                transition_p = tags_df.loc[state[-1], tag]\n",
    "\n",
    "            # compute emission and state probabilities\n",
    "            emission_p = word_given_tag(words[key], tag)[0]/word_given_tag(words[key], tag)[1]\n",
    "            t.append(transition_p)\n",
    "            e.append(emission_p) #Adding Emission prbability for all tag\n",
    "            state_probability = emission_p * transition_p    \n",
    "            p.append(state_probability)\n",
    "        pmax = max(p)\n",
    "        state_max = None\n",
    "        if pmax == 0.0:\n",
    "            stack = backoff.copy()\n",
    "            while stack != []:\n",
    "                if state_max==None:\n",
    "                    state_max=stack.pop()([word])[0][1]\n",
    "                else:\n",
    "                    stack.clear()\n",
    "            if state_max == None and backoff != []:\n",
    "                if sum(e)==0.0:\n",
    "                    state_max = T[t.index(max(t))]\n",
    "        # getting state for which probability is maximum\n",
    "        if state_max==None:\n",
    "            state_max = T[p.index(pmax)] \n",
    "        state.append(state_max)\n",
    "    return list(zip(words, state))"
   ]
  },
  {
   "cell_type": "code",
   "execution_count": 34,
   "metadata": {},
   "outputs": [],
   "source": [
    "def RuleBasedViterbi(incorrect_tagged_cases, tagged_seq_to_improve):\n",
    "    patterns = [\n",
    "    (r'.*es$', 'VERB'),\n",
    "    (r'.*ing$', 'VERB'),\n",
    "    (r'\\d?[a-z]?-[a-z]', 'ADP'),         \n",
    "    (r'.*ed$', 'VERB'),\n",
    "    (r'^an?$|the$', 'DET'),              \n",
    "    (r'.*ful$', 'ADJ'), \n",
    "    (r'.*ous$', 'ADJ'),\n",
    "    (r'.*ble$', 'ADJ'),\n",
    "    (r'^-?[0-9]+(.[0-9]+)?$', 'NUM'), \n",
    "    (r'.*', 'NOUN'),\n",
    "    (r'^[aA-zZ].*[0-9]+','NOUN'),  #Flat/Door Number, Street Number\n",
    "    (r'^(0|([*|-|$].*))','X'), #Any special form of number like *T* *a-767, 0\n",
    "    (r'[0-9].?[,\\/]?[0-9]*','NUM'),\n",
    "    (r'^([0-9]|[aA-zZ])+\\-[aA-zZ]*$','ADJ'), #adjective like 100-megabytes 237-Seats\n",
    "    (r'^[A-Z]+([a-z]{1,2})?\\.?$','NOUN'),# Capitalization rule of English and Salutation\n",
    "    (r'[aA-zZ]+(\\'s|s)$', 'NOUN'),             # possessive nouns & plural nouns\n",
    "    (r'^[A-Z]{1}[a-z]*$','NOUN'),\n",
    "    (r'[aA-zZ]+(ed|ing|es)$', 'VERB')\n",
    "    ]\n",
    "    # create a regex tagger \n",
    "    regexp_tagger = nltk.RegexpTagger(patterns)\n",
    " \n",
    "    #tag the incorrect words properly this time \n",
    "    incorrect_words=[i[1][0] for i in incorrect_tagged_cases]\n",
    "    regex_result=regexp_tagger.tag_sents(incorrect_words)\n",
    "    for i in incorrect_words[:]:\n",
    "        tagged_seq_to_improve.remove(i)\n",
    "    for i in regex_result:\n",
    "        tagged_seq_to_improve.append(i[0])\n",
    "    return tagged_seq_to_improve"
   ]
  },
  {
   "cell_type": "markdown",
   "metadata": {},
   "source": [
    "#### Evaluating Rule Based Viterbi Algorithm to imporve tagging accuracy on unknown words in 1st approach"
   ]
  },
  {
   "cell_type": "code",
   "execution_count": 35,
   "metadata": {},
   "outputs": [
    {
     "name": "stdout",
     "output_type": "stream",
     "text": [
      "0.9653679653679653\n"
     ]
    }
   ],
   "source": [
    "rulebased_tagged_seq = tran_tagged_seq\n",
    "rule_tagged_seq = RuleBasedViterbi(transition_incorrect_tagged_cases, rulebased_tagged_seq)\n",
    "\n",
    "rule_tagged_seq.sort()\n",
    "test_run_base.sort()\n",
    "check_rulebased = [i for i, j in zip(rule_tagged_seq, test_run_base) if i == j] \n",
    "RuleBasedViterbiAccuracy = len(check_rulebased)/len(rule_tagged_seq)\n",
    "print(RuleBasedViterbiAccuracy)"
   ]
  },
  {
   "cell_type": "code",
   "execution_count": 36,
   "metadata": {},
   "outputs": [
    {
     "data": {
      "text/plain": [
       "[[('a', 'DET'), (('after', 'NOUN'), ('after', 'ADV'))],\n",
       " [('be', 'VERB'), (('before', 'NOUN'), ('before', 'ADV'))],\n",
       " [('during', 'ADP'), (('earlier', 'NOUN'), ('earlier', 'ADJ'))],\n",
       " [('expected', 'VERB'), (('export', 'NOUN'), ('export', 'VERB'))],\n",
       " [('face', 'VERB'), (('facial', 'NOUN'), ('facial', 'ADJ'))],\n",
       " [('its', 'PRON'), (('last', 'NOUN'), ('last', 'VERB'))],\n",
       " [('small', 'ADJ'), (('so', 'ADV'), ('so', 'ADP'))],\n",
       " [('so', 'ADP'), (('so', 'NOUN'), ('so', 'ADV'))]]"
      ]
     },
     "execution_count": 36,
     "metadata": {},
     "output_type": "execute_result"
    }
   ],
   "source": [
    "rulebased_incorrect_tagged_cases = [[test_run_base[i-1],j] for i, j in enumerate(zip(rule_tagged_seq, test_run_base)) if j[0]!=j[1]]\n",
    "rulebased_incorrect_tagged_cases"
   ]
  },
  {
   "cell_type": "code",
   "execution_count": 37,
   "metadata": {},
   "outputs": [
    {
     "data": {
      "text/plain": [
       "['a',\n",
       " ('after', 'NOUN'),\n",
       " 'be',\n",
       " ('before', 'NOUN'),\n",
       " 'during',\n",
       " ('earlier', 'NOUN'),\n",
       " 'expected',\n",
       " ('export', 'NOUN'),\n",
       " 'face',\n",
       " ('facial', 'NOUN'),\n",
       " 'its',\n",
       " ('last', 'NOUN'),\n",
       " 'small',\n",
       " ('so', 'ADV'),\n",
       " 'so',\n",
       " ('so', 'NOUN')]"
      ]
     },
     "execution_count": 37,
     "metadata": {},
     "output_type": "execute_result"
    }
   ],
   "source": [
    "rulebased_incorrect_words = [w[0] for in_wo in rulebased_incorrect_tagged_cases for w in in_wo]\n",
    "set(rulebased_incorrect_words)\n",
    "rulebased_incorrect_words"
   ]
  },
  {
   "cell_type": "markdown",
   "metadata": {},
   "source": []
  },
  {
   "cell_type": "markdown",
   "metadata": {},
   "source": [
    "### Compare the tagging accuracies of the modifications with the vanilla Viterbi algorithm"
   ]
  },
  {
   "cell_type": "code",
   "execution_count": 38,
   "metadata": {},
   "outputs": [
    {
     "name": "stdout",
     "output_type": "stream",
     "text": [
      "Accuracy with Vanilla Viterbi Run 0.9437229437229437\n",
      "Approach 1 :Accuracy with default Transition Viterbi Run 0.9523809523809523\n",
      "Approach 2 :Accuracy with Rule Based Viterbi Run 0.9653679653679653\n"
     ]
    }
   ],
   "source": [
    "print(\"Accuracy with Vanilla Viterbi Run {}\".format(vanillaViterbiAccuracy))\n",
    "print(\"Approach 1 :Accuracy with default Transition Viterbi Run {}\".format(TransitionViterbiAccuracy))\n",
    "print(\"Approach 2 :Accuracy with Rule Based Viterbi Run {}\".format(RuleBasedViterbiAccuracy))"
   ]
  },
  {
   "cell_type": "markdown",
   "metadata": {},
   "source": [
    "### List down cases which were incorrectly tagged by original POS tagger and got corrected by your modifications"
   ]
  },
  {
   "cell_type": "code",
   "execution_count": 39,
   "metadata": {},
   "outputs": [
    {
     "name": "stdout",
     "output_type": "stream",
     "text": [
      "Incorrect words post Vanilla Viterbi Run [[('to', 'PRT'), (('export', 'NOUN'), ('export', 'VERB'))], [('the', 'DET'), (('1990-91', 'ADP'), ('1990-91', 'NUM'))], [('season', 'NOUN'), (('so', 'ADV'), ('so', 'ADP'))], [('for', 'ADP'), (('automobile', 'ADP'), ('automobile', 'NOUN'))], [('for', 'ADP'), (('nondurable', 'ADP'), ('nondurable', 'ADJ'))], [('to', 'PRT'), (('last', 'ADJ'), ('last', 'VERB'))], [('$', '.'), (('109.73', 'ADP'), ('109.73', 'NUM'))], [('*U*', 'X'), (('after', 'ADP'), ('after', 'ADV'))], [('month', 'NOUN'), (('before', 'ADP'), ('before', 'ADV'))], [('.', '.'), (('Superconductors', 'ADP'), ('Superconductors', 'NOUN'))], [('Superconductors', 'NOUN'), (('conduct', 'NOUN'), ('conduct', 'VERB'))], [('year', 'NOUN'), (('earlier', 'ADV'), ('earlier', 'ADJ'))], [('tight', 'ADJ'), (('facial', 'ADP'), ('facial', 'ADJ'))]]\n"
     ]
    }
   ],
   "source": [
    "print(\"Incorrect words post Vanilla Viterbi Run {}\".format(vanilla_incorrect_tagged_cases))"
   ]
  },
  {
   "cell_type": "code",
   "execution_count": 40,
   "metadata": {},
   "outputs": [
    {
     "name": "stdout",
     "output_type": "stream",
     "text": [
      "Incorrect words post Transition Viterbi Run i.e. Approach 1 [[('to', 'PRT'), (('export', 'NOUN'), ('export', 'VERB'))], [('the', 'DET'), (('1990-91', 'NOUN'), ('1990-91', 'NUM'))], [('season', 'NOUN'), (('so', 'ADV'), ('so', 'ADP'))], [('for', 'ADP'), (('automobile', 'DET'), ('automobile', 'NOUN'))], [('for', 'ADP'), (('nondurable', 'DET'), ('nondurable', 'ADJ'))], [('to', 'PRT'), (('last', 'ADJ'), ('last', 'VERB'))], [('$', '.'), (('109.73', 'NOUN'), ('109.73', 'NUM'))], [('*U*', 'X'), (('after', 'ADP'), ('after', 'ADV'))], [('month', 'NOUN'), (('before', 'ADP'), ('before', 'ADV'))], [('year', 'NOUN'), (('earlier', 'ADV'), ('earlier', 'ADJ'))], [('tight', 'ADJ'), (('facial', 'NOUN'), ('facial', 'ADJ'))]]\n"
     ]
    }
   ],
   "source": [
    "print(\"Incorrect words post Transition Viterbi Run i.e. Approach 1 {}\".format(transition_incorrect_tagged_cases))"
   ]
  },
  {
   "cell_type": "code",
   "execution_count": 41,
   "metadata": {},
   "outputs": [
    {
     "name": "stdout",
     "output_type": "stream",
     "text": [
      "Incorrect words post Rule Based Viterbi Run i.e. Approach 2 [[('a', 'DET'), (('after', 'NOUN'), ('after', 'ADV'))], [('be', 'VERB'), (('before', 'NOUN'), ('before', 'ADV'))], [('during', 'ADP'), (('earlier', 'NOUN'), ('earlier', 'ADJ'))], [('expected', 'VERB'), (('export', 'NOUN'), ('export', 'VERB'))], [('face', 'VERB'), (('facial', 'NOUN'), ('facial', 'ADJ'))], [('its', 'PRON'), (('last', 'NOUN'), ('last', 'VERB'))], [('small', 'ADJ'), (('so', 'ADV'), ('so', 'ADP'))], [('so', 'ADP'), (('so', 'NOUN'), ('so', 'ADV'))]]\n"
     ]
    }
   ],
   "source": [
    "print(\"Incorrect words post Rule Based Viterbi Run i.e. Approach 2 {}\".format(rulebased_incorrect_tagged_cases))\n"
   ]
  },
  {
   "cell_type": "markdown",
   "metadata": {},
   "source": [
    "### Final validation with the input file given as part of assignment"
   ]
  },
  {
   "cell_type": "code",
   "execution_count": 42,
   "metadata": {},
   "outputs": [
    {
     "name": "stdout",
     "output_type": "stream",
     "text": [
      "Android is a mobile operating system developed by Google.\n",
      "Android has been the best-selling OS worldwide on smartphones since 2011 and on tablets since 2013.\n",
      "Google and Twitter made a deal in 2015 that gave Google access to Twitter's firehose.\n",
      "Twitter is an online news and social networking service on which users post and interact with messages known as tweets.\n",
      "Before entering politics, Donald Trump was a domineering businessman and a television personality.\n",
      "The 2018 FIFA World Cup is the 21st FIFA World Cup, an international football tournament contested once every four years.\n",
      "This is the first World Cup to be held in Eastern Europe and the 11th time that it has been held in Europe.\n",
      "Show me the cheapest round trips from Dallas to Atlanta\n",
      "I would like to see flights from Denver to Philadelphia.\n",
      "Show me the price of the flights leaving Atlanta at about 3 in the afternoon and arriving in San Francisco.\n",
      "NASA invited social media users to experience the launch of ICESAT-2 Satellite.\n",
      "\n",
      "\n",
      "\n",
      "\n"
     ]
    }
   ],
   "source": [
    "# Read the test file\n",
    "test_sentence = open(\"Test_sentences.txt\", \"r\")\n",
    "test_text_sentence = test_sentence.read()\n",
    "test_sentence.close()\n",
    "print(test_text_sentence)"
   ]
  },
  {
   "cell_type": "code",
   "execution_count": 43,
   "metadata": {},
   "outputs": [
    {
     "name": "stdout",
     "output_type": "stream",
     "text": [
      "['Android', 'is', 'a', 'mobile', 'operating', 'system', 'developed', 'by', 'Google', '.', 'Android', 'has', 'been', 'the', 'best-selling', 'OS', 'worldwide', 'on', 'smartphones', 'since', '2011', 'and', 'on', 'tablets', 'since', '2013', '.', 'Google', 'and', 'Twitter', 'made', 'a', 'deal', 'in', '2015', 'that', 'gave', 'Google', 'access', 'to', 'Twitter', \"'s\", 'firehose', '.', 'Twitter', 'is', 'an', 'online', 'news', 'and', 'social', 'networking', 'service', 'on', 'which', 'users', 'post', 'and', 'interact', 'with', 'messages', 'known', 'as', 'tweets', '.', 'Before', 'entering', 'politics', ',', 'Donald', 'Trump', 'was', 'a', 'domineering', 'businessman', 'and', 'a', 'television', 'personality', '.', 'The', '2018', 'FIFA', 'World', 'Cup', 'is', 'the', '21st', 'FIFA', 'World', 'Cup', ',', 'an', 'international', 'football', 'tournament', 'contested', 'once', 'every', 'four', 'years', '.', 'This', 'is', 'the', 'first', 'World', 'Cup', 'to', 'be', 'held', 'in', 'Eastern', 'Europe', 'and', 'the', '11th', 'time', 'that', 'it', 'has', 'been', 'held', 'in', 'Europe', '.', 'Show', 'me', 'the', 'cheapest', 'round', 'trips', 'from', 'Dallas', 'to', 'Atlanta', 'I', 'would', 'like', 'to', 'see', 'flights', 'from', 'Denver', 'to', 'Philadelphia', '.', 'Show', 'me', 'the', 'price', 'of', 'the', 'flights', 'leaving', 'Atlanta', 'at', 'about', '3', 'in', 'the', 'afternoon', 'and', 'arriving', 'in', 'San', 'Francisco', '.', 'NASA', 'invited', 'social', 'media', 'users', 'to', 'experience', 'the', 'launch', 'of', 'ICESAT-2', 'Satellite', '.']\n"
     ]
    }
   ],
   "source": [
    "words = word_tokenize(test_text_sentence)\n",
    "print(words)"
   ]
  },
  {
   "cell_type": "code",
   "execution_count": 44,
   "metadata": {},
   "outputs": [],
   "source": [
    "pos_sentence = nltk.pos_tag(words, tagset='universal')"
   ]
  },
  {
   "cell_type": "code",
   "execution_count": 45,
   "metadata": {},
   "outputs": [
    {
     "name": "stdout",
     "output_type": "stream",
     "text": [
      "[('Android', 'ADP'), ('is', 'VERB'), ('a', 'DET'), ('mobile', 'ADJ'), ('operating', 'NOUN'), ('system', 'NOUN'), ('developed', 'VERB'), ('by', 'ADP'), ('Google', 'ADP'), ('.', '.'), ('Android', 'ADP'), ('has', 'VERB'), ('been', 'VERB'), ('the', 'DET'), ('best-selling', 'ADJ'), ('OS', 'ADP'), ('worldwide', 'ADP'), ('on', 'ADP'), ('smartphones', 'ADP'), ('since', 'ADP'), ('2011', 'ADP'), ('and', 'CONJ'), ('on', 'ADP'), ('tablets', 'NOUN'), ('since', 'ADP'), ('2013', 'ADP'), ('.', '.'), ('Google', 'ADP'), ('and', 'CONJ'), ('Twitter', 'ADP'), ('made', 'VERB'), ('a', 'DET'), ('deal', 'NOUN'), ('in', 'ADP'), ('2015', 'ADP'), ('that', 'DET'), ('gave', 'VERB'), ('Google', 'ADP'), ('access', 'NOUN'), ('to', 'PRT'), ('Twitter', 'ADP'), (\"'s\", 'PRT'), ('firehose', 'ADP'), ('.', '.'), ('Twitter', 'ADP'), ('is', 'VERB'), ('an', 'DET'), ('online', 'ADP'), ('news', 'NOUN'), ('and', 'CONJ'), ('social', 'ADJ'), ('networking', 'NOUN'), ('service', 'NOUN'), ('on', 'ADP'), ('which', 'DET'), ('users', 'NOUN'), ('post', 'NOUN'), ('and', 'CONJ'), ('interact', 'ADP'), ('with', 'ADP'), ('messages', 'ADP'), ('known', 'ADJ'), ('as', 'ADP'), ('tweets', 'ADP'), ('.', '.'), ('Before', 'ADP'), ('entering', 'VERB'), ('politics', 'NOUN'), (',', '.'), ('Donald', 'NOUN'), ('Trump', 'NOUN'), ('was', 'VERB'), ('a', 'DET'), ('domineering', 'ADP'), ('businessman', 'NOUN'), ('and', 'CONJ'), ('a', 'DET'), ('television', 'NOUN'), ('personality', 'ADP'), ('.', '.'), ('The', 'DET'), ('2018', 'ADP'), ('FIFA', 'ADP'), ('World', 'NOUN'), ('Cup', 'ADP'), ('is', 'VERB'), ('the', 'DET'), ('21st', 'ADP'), ('FIFA', 'ADP'), ('World', 'NOUN'), ('Cup', 'ADP'), (',', '.'), ('an', 'DET'), ('international', 'ADJ'), ('football', 'NOUN'), ('tournament', 'ADP'), ('contested', 'ADP'), ('once', 'ADV'), ('every', 'DET'), ('four', 'NUM'), ('years', 'NOUN'), ('.', '.'), ('This', 'DET'), ('is', 'VERB'), ('the', 'DET'), ('first', 'ADJ'), ('World', 'NOUN'), ('Cup', 'ADP'), ('to', 'PRT'), ('be', 'VERB'), ('held', 'VERB'), ('in', 'ADP'), ('Eastern', 'NOUN'), ('Europe', 'NOUN'), ('and', 'CONJ'), ('the', 'DET'), ('11th', 'ADJ'), ('time', 'NOUN'), ('that', 'ADP'), ('it', 'PRON'), ('has', 'VERB'), ('been', 'VERB'), ('held', 'VERB'), ('in', 'ADP'), ('Europe', 'NOUN'), ('.', '.'), ('Show', 'NOUN'), ('me', 'PRON'), ('the', 'DET'), ('cheapest', 'ADJ'), ('round', 'NOUN'), ('trips', 'ADP'), ('from', 'ADP'), ('Dallas', 'NOUN'), ('to', 'PRT'), ('Atlanta', 'NOUN'), ('I', 'PRON'), ('would', 'VERB'), ('like', 'ADP'), ('to', 'PRT'), ('see', 'VERB'), ('flights', 'NOUN'), ('from', 'ADP'), ('Denver', 'NOUN'), ('to', 'PRT'), ('Philadelphia', 'NOUN'), ('.', '.'), ('Show', 'NOUN'), ('me', 'PRON'), ('the', 'DET'), ('price', 'NOUN'), ('of', 'ADP'), ('the', 'DET'), ('flights', 'NOUN'), ('leaving', 'VERB'), ('Atlanta', 'NOUN'), ('at', 'ADP'), ('about', 'ADP'), ('3', 'NUM'), ('in', 'ADP'), ('the', 'DET'), ('afternoon', 'NOUN'), ('and', 'CONJ'), ('arriving', 'ADP'), ('in', 'ADP'), ('San', 'NOUN'), ('Francisco', 'NOUN'), ('.', '.'), ('NASA', 'ADP'), ('invited', 'ADP'), ('social', 'ADJ'), ('media', 'NOUN'), ('users', 'NOUN'), ('to', 'PRT'), ('experience', 'NOUN'), ('the', 'DET'), ('launch', 'NOUN'), ('of', 'ADP'), ('ICESAT-2', 'ADP'), ('Satellite', 'ADP'), ('.', '.')]\n",
      "44.514925718307495\n"
     ]
    }
   ],
   "source": [
    "# Validation to run on Viterbi\n",
    "start = time.time()\n",
    "van_tagged_seq = VanillaViterbi(words)\n",
    "end = time.time()\n",
    "difference = end-start\n",
    "print(van_tagged_seq)\n",
    "print(difference)"
   ]
  },
  {
   "cell_type": "code",
   "execution_count": 46,
   "metadata": {},
   "outputs": [
    {
     "name": "stdout",
     "output_type": "stream",
     "text": [
      "Vanilla Viterbi Algorithm Accuracy on test sentence 0.7624309392265194\n"
     ]
    }
   ],
   "source": [
    "van_check = [i for i, j in zip(van_tagged_seq, pos_sentence) if i == j] \n",
    "van_accuracy = len(van_check)/len(van_tagged_seq)\n",
    "print(\"Vanilla Viterbi Algorithm Accuracy on test sentence {0}\".format(van_accuracy))"
   ]
  },
  {
   "cell_type": "code",
   "execution_count": 47,
   "metadata": {},
   "outputs": [
    {
     "name": "stdout",
     "output_type": "stream",
     "text": [
      "[[('.', '.'), (('Android', 'ADP'), ('Android', 'NOUN'))], [('by', 'ADP'), (('Google', 'ADP'), ('Google', 'NOUN'))], [('.', '.'), (('Android', 'ADP'), ('Android', 'NOUN'))], [('best-selling', 'ADJ'), (('OS', 'ADP'), ('OS', 'NOUN'))], [('OS', 'NOUN'), (('worldwide', 'ADP'), ('worldwide', 'NOUN'))], [('on', 'ADP'), (('smartphones', 'ADP'), ('smartphones', 'NOUN'))], [('since', 'ADP'), (('2011', 'ADP'), ('2011', 'NUM'))], [('since', 'ADP'), (('2013', 'ADP'), ('2013', 'NUM'))], [('.', '.'), (('Google', 'ADP'), ('Google', 'NOUN'))], [('and', 'CONJ'), (('Twitter', 'ADP'), ('Twitter', 'NOUN'))], [('in', 'ADP'), (('2015', 'ADP'), ('2015', 'NUM'))], [('gave', 'VERB'), (('Google', 'ADP'), ('Google', 'NOUN'))], [('to', 'PRT'), (('Twitter', 'ADP'), ('Twitter', 'NOUN'))], [(\"'s\", 'PRT'), (('firehose', 'ADP'), ('firehose', 'NOUN'))], [('.', '.'), (('Twitter', 'ADP'), ('Twitter', 'NOUN'))], [('an', 'DET'), (('online', 'ADP'), ('online', 'ADJ'))], [('and', 'CONJ'), (('interact', 'ADP'), ('interact', 'NOUN'))], [('with', 'ADP'), (('messages', 'ADP'), ('messages', 'NOUN'))], [('messages', 'NOUN'), (('known', 'ADJ'), ('known', 'VERB'))], [('as', 'ADP'), (('tweets', 'ADP'), ('tweets', 'NOUN'))], [('a', 'DET'), (('domineering', 'ADP'), ('domineering', 'ADJ'))], [('television', 'NOUN'), (('personality', 'ADP'), ('personality', 'NOUN'))], [('The', 'DET'), (('2018', 'ADP'), ('2018', 'NUM'))], [('2018', 'NUM'), (('FIFA', 'ADP'), ('FIFA', 'NOUN'))], [('World', 'NOUN'), (('Cup', 'ADP'), ('Cup', 'NOUN'))], [('the', 'DET'), (('21st', 'ADP'), ('21st', 'NUM'))], [('21st', 'NUM'), (('FIFA', 'ADP'), ('FIFA', 'NOUN'))], [('World', 'NOUN'), (('Cup', 'ADP'), ('Cup', 'NOUN'))], [('football', 'NOUN'), (('tournament', 'ADP'), ('tournament', 'NOUN'))], [('tournament', 'NOUN'), (('contested', 'ADP'), ('contested', 'VERB'))], [('World', 'NOUN'), (('Cup', 'ADP'), ('Cup', 'NOUN'))], [('the', 'DET'), (('11th', 'ADJ'), ('11th', 'NUM'))], [('.', '.'), (('Show', 'NOUN'), ('Show', 'VERB'))], [('round', 'NOUN'), (('trips', 'ADP'), ('trips', 'NOUN'))], [('would', 'VERB'), (('like', 'ADP'), ('like', 'VERB'))], [('.', '.'), (('Show', 'NOUN'), ('Show', 'VERB'))], [('at', 'ADP'), (('about', 'ADP'), ('about', 'ADV'))], [('and', 'CONJ'), (('arriving', 'ADP'), ('arriving', 'NOUN'))], [('.', '.'), (('NASA', 'ADP'), ('NASA', 'NOUN'))], [('NASA', 'NOUN'), (('invited', 'ADP'), ('invited', 'VERB'))], [('to', 'PRT'), (('experience', 'NOUN'), ('experience', 'VERB'))], [('of', 'ADP'), (('ICESAT-2', 'ADP'), ('ICESAT-2', 'NOUN'))], [('ICESAT-2', 'NOUN'), (('Satellite', 'ADP'), ('Satellite', 'NOUN'))]]\n"
     ]
    }
   ],
   "source": [
    "van_tagged_cases_word = [[pos_sentence[i-1],j] for i, j in enumerate(zip(van_tagged_seq, pos_sentence)) if j[0]!=j[1]]\n",
    "print(van_tagged_cases_word)"
   ]
  },
  {
   "cell_type": "code",
   "execution_count": 48,
   "metadata": {},
   "outputs": [
    {
     "name": "stdout",
     "output_type": "stream",
     "text": [
      "[('Android', 'NOUN'), ('is', 'VERB'), ('a', 'DET'), ('mobile', 'ADJ'), ('operating', 'NOUN'), ('system', 'NOUN'), ('developed', 'VERB'), ('by', 'ADP'), ('Google', 'DET'), ('.', '.'), ('Android', 'NOUN'), ('has', 'VERB'), ('been', 'VERB'), ('the', 'DET'), ('best-selling', 'ADJ'), ('OS', 'NOUN'), ('worldwide', 'NOUN'), ('on', 'ADP'), ('smartphones', 'DET'), ('since', 'ADP'), ('2011', 'DET'), ('and', 'CONJ'), ('on', 'ADP'), ('tablets', 'NOUN'), ('since', 'ADP'), ('2013', 'DET'), ('.', '.'), ('Google', 'NOUN'), ('and', 'CONJ'), ('Twitter', 'NOUN'), ('made', 'VERB'), ('a', 'DET'), ('deal', 'NOUN'), ('in', 'ADP'), ('2015', 'DET'), ('that', 'ADP'), ('gave', 'VERB'), ('Google', 'X'), ('access', 'NOUN'), ('to', 'PRT'), ('Twitter', 'VERB'), (\"'s\", 'PRT'), ('firehose', 'VERB'), ('.', '.'), ('Twitter', 'NOUN'), ('is', 'VERB'), ('an', 'DET'), ('online', 'NOUN'), ('news', 'NOUN'), ('and', 'CONJ'), ('social', 'ADJ'), ('networking', 'NOUN'), ('service', 'NOUN'), ('on', 'ADP'), ('which', 'DET'), ('users', 'NOUN'), ('post', 'NOUN'), ('and', 'CONJ'), ('interact', 'NOUN'), ('with', 'ADP'), ('messages', 'DET'), ('known', 'VERB'), ('as', 'ADP'), ('tweets', 'DET'), ('.', '.'), ('Before', 'ADP'), ('entering', 'VERB'), ('politics', 'NOUN'), (',', '.'), ('Donald', 'NOUN'), ('Trump', 'NOUN'), ('was', 'VERB'), ('a', 'DET'), ('domineering', 'NOUN'), ('businessman', 'NOUN'), ('and', 'CONJ'), ('a', 'DET'), ('television', 'NOUN'), ('personality', 'NOUN'), ('.', '.'), ('The', 'DET'), ('2018', 'NOUN'), ('FIFA', 'NOUN'), ('World', 'NOUN'), ('Cup', 'NOUN'), ('is', 'VERB'), ('the', 'DET'), ('21st', 'NOUN'), ('FIFA', 'NOUN'), ('World', 'NOUN'), ('Cup', 'NOUN'), (',', '.'), ('an', 'DET'), ('international', 'ADJ'), ('football', 'NOUN'), ('tournament', 'NOUN'), ('contested', 'NOUN'), ('once', 'ADV'), ('every', 'DET'), ('four', 'NUM'), ('years', 'NOUN'), ('.', '.'), ('This', 'DET'), ('is', 'VERB'), ('the', 'DET'), ('first', 'ADJ'), ('World', 'NOUN'), ('Cup', 'NOUN'), ('to', 'PRT'), ('be', 'VERB'), ('held', 'VERB'), ('in', 'ADP'), ('Eastern', 'NOUN'), ('Europe', 'NOUN'), ('and', 'CONJ'), ('the', 'DET'), ('11th', 'ADJ'), ('time', 'NOUN'), ('that', 'ADP'), ('it', 'PRON'), ('has', 'VERB'), ('been', 'VERB'), ('held', 'VERB'), ('in', 'ADP'), ('Europe', 'NOUN'), ('.', '.'), ('Show', 'NOUN'), ('me', 'PRON'), ('the', 'DET'), ('cheapest', 'ADJ'), ('round', 'NOUN'), ('trips', 'NOUN'), ('from', 'ADP'), ('Dallas', 'NOUN'), ('to', 'PRT'), ('Atlanta', 'NOUN'), ('I', 'PRON'), ('would', 'VERB'), ('like', 'ADP'), ('to', 'PRT'), ('see', 'VERB'), ('flights', 'NOUN'), ('from', 'ADP'), ('Denver', 'NOUN'), ('to', 'PRT'), ('Philadelphia', 'NOUN'), ('.', '.'), ('Show', 'NOUN'), ('me', 'PRON'), ('the', 'DET'), ('price', 'NOUN'), ('of', 'ADP'), ('the', 'DET'), ('flights', 'NOUN'), ('leaving', 'VERB'), ('Atlanta', 'NOUN'), ('at', 'ADP'), ('about', 'ADP'), ('3', 'NUM'), ('in', 'ADP'), ('the', 'DET'), ('afternoon', 'NOUN'), ('and', 'CONJ'), ('arriving', 'NOUN'), ('in', 'ADP'), ('San', 'NOUN'), ('Francisco', 'NOUN'), ('.', '.'), ('NASA', 'NOUN'), ('invited', 'NOUN'), ('social', 'ADJ'), ('media', 'NOUN'), ('users', 'NOUN'), ('to', 'PRT'), ('experience', 'NOUN'), ('the', 'DET'), ('launch', 'NOUN'), ('of', 'ADP'), ('ICESAT-2', 'DET'), ('Satellite', 'NOUN'), ('.', '.')]\n",
      "48.6579794883728\n"
     ]
    }
   ],
   "source": [
    "## Using Approach 1 now, on the test sentence\n",
    "start = time.time()\n",
    "tran_tagged_seq = TransitionViterbi(words)\n",
    "end = time.time()\n",
    "difference = end-start\n",
    "print(tran_tagged_seq)\n",
    "print(difference)"
   ]
  },
  {
   "cell_type": "code",
   "execution_count": 49,
   "metadata": {},
   "outputs": [
    {
     "name": "stdout",
     "output_type": "stream",
     "text": [
      "0.8674033149171271\n"
     ]
    }
   ],
   "source": [
    "# accuracy\n",
    "tran_check = [i for i, j in zip(tran_tagged_seq, pos_sentence) if i == j] \n",
    "tran_accuracy = len(tran_check)/len(tran_tagged_seq)\n",
    "print(tran_accuracy)"
   ]
  },
  {
   "cell_type": "code",
   "execution_count": 50,
   "metadata": {},
   "outputs": [
    {
     "name": "stdout",
     "output_type": "stream",
     "text": [
      "[[('by', 'ADP'), (('Google', 'DET'), ('Google', 'NOUN'))], [('on', 'ADP'), (('smartphones', 'DET'), ('smartphones', 'NOUN'))], [('since', 'ADP'), (('2011', 'DET'), ('2011', 'NUM'))], [('since', 'ADP'), (('2013', 'DET'), ('2013', 'NUM'))], [('in', 'ADP'), (('2015', 'DET'), ('2015', 'NUM'))], [('2015', 'NUM'), (('that', 'ADP'), ('that', 'DET'))], [('gave', 'VERB'), (('Google', 'X'), ('Google', 'NOUN'))], [('to', 'PRT'), (('Twitter', 'VERB'), ('Twitter', 'NOUN'))], [(\"'s\", 'PRT'), (('firehose', 'VERB'), ('firehose', 'NOUN'))], [('an', 'DET'), (('online', 'NOUN'), ('online', 'ADJ'))], [('with', 'ADP'), (('messages', 'DET'), ('messages', 'NOUN'))], [('as', 'ADP'), (('tweets', 'DET'), ('tweets', 'NOUN'))], [('a', 'DET'), (('domineering', 'NOUN'), ('domineering', 'ADJ'))], [('The', 'DET'), (('2018', 'NOUN'), ('2018', 'NUM'))], [('the', 'DET'), (('21st', 'NOUN'), ('21st', 'NUM'))], [('tournament', 'NOUN'), (('contested', 'NOUN'), ('contested', 'VERB'))], [('the', 'DET'), (('11th', 'ADJ'), ('11th', 'NUM'))], [('.', '.'), (('Show', 'NOUN'), ('Show', 'VERB'))], [('would', 'VERB'), (('like', 'ADP'), ('like', 'VERB'))], [('.', '.'), (('Show', 'NOUN'), ('Show', 'VERB'))], [('at', 'ADP'), (('about', 'ADP'), ('about', 'ADV'))], [('NASA', 'NOUN'), (('invited', 'NOUN'), ('invited', 'VERB'))], [('to', 'PRT'), (('experience', 'NOUN'), ('experience', 'VERB'))], [('of', 'ADP'), (('ICESAT-2', 'DET'), ('ICESAT-2', 'NOUN'))]]\n"
     ]
    }
   ],
   "source": [
    "# Incorrect Tags post runnign approach 1\n",
    "tran_tagged_cases= [[pos_sentence[i-1],j] for i, j in enumerate(zip(tran_tagged_seq, pos_sentence)) if j[0]!=j[1]]\n",
    "print(tran_tagged_cases)"
   ]
  },
  {
   "cell_type": "code",
   "execution_count": 51,
   "metadata": {},
   "outputs": [
    {
     "name": "stdout",
     "output_type": "stream",
     "text": [
      "0.9337016574585635\n"
     ]
    }
   ],
   "source": [
    "# Running Rule Regex as per Approach 2\n",
    "rule_regex = tran_tagged_seq\n",
    "rule_regex_seq = RuleBasedViterbi(tran_tagged_cases, rule_regex)\n",
    "\n",
    "rule_regex_seq.sort()\n",
    "pos_sentence.sort()\n",
    "rulebased_regex = [i for i, j in zip(rule_regex_seq, pos_sentence) if i == j] \n",
    "rule_accuracy = len(rulebased_regex)/len(rule_regex_seq)\n",
    "print(rule_accuracy)"
   ]
  },
  {
   "cell_type": "code",
   "execution_count": 52,
   "metadata": {},
   "outputs": [
    {
     "name": "stdout",
     "output_type": "stream",
     "text": [
      "[[('.', '.'), (('11th', 'NOUN'), ('11th', 'NUM'))], [('2018', 'NUM'), (('21st', 'NOUN'), ('21st', 'NUM'))], [('Satellite', 'NOUN'), (('Show', 'NOUN'), ('Show', 'VERB'))], [('Show', 'VERB'), (('Show', 'NOUN'), ('Show', 'VERB'))], [('a', 'DET'), (('about', 'NOUN'), ('about', 'ADV'))], [('developed', 'VERB'), (('domineering', 'VERB'), ('domineering', 'ADJ'))], [('every', 'DET'), (('experience', 'NOUN'), ('experience', 'VERB'))], [('leaving', 'VERB'), (('like', 'NOUN'), ('like', 'VERB'))], [('media', 'NOUN'), (('messages', 'VERB'), ('messages', 'NOUN'))], [('once', 'ADV'), (('online', 'NOUN'), ('online', 'ADJ'))], [('since', 'ADP'), (('smartphones', 'VERB'), ('smartphones', 'NOUN'))], [('that', 'ADP'), (('that', 'NOUN'), ('that', 'DET'))]]\n"
     ]
    }
   ],
   "source": [
    "regex_tagged_case = [[pos_sentence[i-1],j] for i, j in enumerate(zip(rule_regex_seq, pos_sentence)) if j[0]!=j[1]]\n",
    "print(regex_tagged_case)"
   ]
  },
  {
   "cell_type": "code",
   "execution_count": null,
   "metadata": {},
   "outputs": [],
   "source": []
  }
 ],
 "metadata": {
  "kernelspec": {
   "display_name": "Python 3",
   "language": "python",
   "name": "python3"
  },
  "language_info": {
   "codemirror_mode": {
    "name": "ipython",
    "version": 3
   },
   "file_extension": ".py",
   "mimetype": "text/x-python",
   "name": "python",
   "nbconvert_exporter": "python",
   "pygments_lexer": "ipython3",
   "version": "3.6.5"
  }
 },
 "nbformat": 4,
 "nbformat_minor": 2
}
